{
 "cells": [
  {
   "cell_type": "markdown",
   "id": "9c6c03e2",
   "metadata": {},
   "source": [
    "# Exporting for Feature Analysis in Tableau"
   ]
  },
  {
   "cell_type": "code",
   "execution_count": 1,
   "id": "0cea8432",
   "metadata": {},
   "outputs": [],
   "source": [
    "import pandas as pd\n",
    "import sys\n",
    "import os\n",
    "\n",
    "# Fixing routing issue\n",
    "project_root = os.path.abspath('..')\n",
    "sys.path.append(project_root)\n",
    "\n",
    "from scripts.evaluate_model import evaluate_model\n",
    "\n",
    "df = pd.read_csv(\"../data/processed/golden_intent_labeled.csv\")\n",
    "\n",
    "feature_config = [\n",
    "    ('TF-IDF', []),\n",
    "    ('TF-IDF + tweet_length', ['tweet_length']),\n",
    "    ('TF-IDF + is_question', ['is_question']),\n",
    "    ('TF-IDF + sentiment', ['sentiment_score']),\n",
    "]\n",
    "\n",
    "results = []\n",
    "\n",
    "for label, features in feature_config:\n",
    "    eval_df = evaluate_model(df, extra_feature_names=features)\n",
    "    eval_df['feature_set'] = label\n",
    "    results.append(eval_df)\n",
    "\n",
    "\n",
    "final_df = pd.concat(results, ignore_index=True)\n",
    "final_df.to_csv(\"../data/exports/eval_results_for_tableau.csv\", index=False)"
   ]
  }
 ],
 "metadata": {
  "kernelspec": {
   "display_name": "Python 3",
   "language": "python",
   "name": "python3"
  },
  "language_info": {
   "codemirror_mode": {
    "name": "ipython",
    "version": 3
   },
   "file_extension": ".py",
   "mimetype": "text/x-python",
   "name": "python",
   "nbconvert_exporter": "python",
   "pygments_lexer": "ipython3",
   "version": "3.12.6"
  }
 },
 "nbformat": 4,
 "nbformat_minor": 5
}
