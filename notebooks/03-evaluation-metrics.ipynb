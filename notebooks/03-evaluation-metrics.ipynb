{
 "cells": [
  {
   "cell_type": "markdown",
   "id": "afe81e33",
   "metadata": {},
   "source": [
    "# Building the Model"
   ]
  },
  {
   "cell_type": "markdown",
   "id": "773756a7",
   "metadata": {},
   "source": [
    "## Imports"
   ]
  },
  {
   "cell_type": "code",
   "execution_count": 1,
   "id": "8bee3589",
   "metadata": {},
   "outputs": [],
   "source": [
    "import pandas as pd\n",
    "import sys\n",
    "import os\n",
    "from sklearn.model_selection import train_test_split\n",
    "from sklearn.linear_model import LogisticRegression\n",
    "from sklearn.metrics import classification_report\n",
    "\n",
    "\n",
    "# Fixing routing issue\n",
    "project_root = os.path.abspath('..')\n",
    "sys.path.append(project_root)"
   ]
  },
  {
   "cell_type": "markdown",
   "id": "f5706b23",
   "metadata": {},
   "source": [
    "## Load and Prep Data"
   ]
  },
  {
   "cell_type": "code",
   "execution_count": null,
   "id": "efc20bfa",
   "metadata": {},
   "outputs": [
    {
     "data": {
      "text/html": [
       "<div>\n",
       "<style scoped>\n",
       "    .dataframe tbody tr th:only-of-type {\n",
       "        vertical-align: middle;\n",
       "    }\n",
       "\n",
       "    .dataframe tbody tr th {\n",
       "        vertical-align: top;\n",
       "    }\n",
       "\n",
       "    .dataframe thead th {\n",
       "        text-align: right;\n",
       "    }\n",
       "</style>\n",
       "<table border=\"1\" class=\"dataframe\">\n",
       "  <thead>\n",
       "    <tr style=\"text-align: right;\">\n",
       "      <th></th>\n",
       "      <th>cleaned_text</th>\n",
       "      <th>intent</th>\n",
       "    </tr>\n",
       "  </thead>\n",
       "  <tbody>\n",
       "    <tr>\n",
       "      <th>0</th>\n",
       "      <td>whats that egg website people talk about</td>\n",
       "      <td>Other</td>\n",
       "    </tr>\n",
       "    <tr>\n",
       "      <th>1</th>\n",
       "      <td>why ios</td>\n",
       "      <td>Other</td>\n",
       "    </tr>\n",
       "    <tr>\n",
       "      <th>2</th>\n",
       "      <td>we can assist you we recommend updating to io...</td>\n",
       "      <td>Other</td>\n",
       "    </tr>\n",
       "    <tr>\n",
       "      <th>3</th>\n",
       "      <td>thats better than having an unstable connecti...</td>\n",
       "      <td>Other</td>\n",
       "    </tr>\n",
       "    <tr>\n",
       "      <th>4</th>\n",
       "      <td>is probably one of the best airlines ive ever...</td>\n",
       "      <td>Other</td>\n",
       "    </tr>\n",
       "  </tbody>\n",
       "</table>\n",
       "</div>"
      ],
      "text/plain": [
       "                                        cleaned_text intent\n",
       "0           whats that egg website people talk about  Other\n",
       "1                                           why ios   Other\n",
       "2   we can assist you we recommend updating to io...  Other\n",
       "3   thats better than having an unstable connecti...  Other\n",
       "4   is probably one of the best airlines ive ever...  Other"
      ]
     },
     "execution_count": 2,
     "metadata": {},
     "output_type": "execute_result"
    }
   ],
   "source": [
    "df = pd.read_csv(\"../data/processed/golden_intent_labeled.csv\")\n",
    "\n",
    "# Quick peep\n",
    "df[['cleaned_text', 'intent']].head()"
   ]
  },
  {
   "cell_type": "markdown",
   "id": "f823e126",
   "metadata": {},
   "source": [
    "## Split Data"
   ]
  },
  {
   "cell_type": "code",
   "execution_count": 3,
   "id": "18fcd017",
   "metadata": {},
   "outputs": [],
   "source": [
    "X = df['cleaned_text']\n",
    "Y = df['intent']\n",
    "\n",
    "X_train, X_test, y_train, y_test = train_test_split(\n",
    "    X, Y, test_size=0.2, random_state=42, stratify=Y\n",
    ")\n",
    "\n",
    "X_train = X_train.fillna(\"\")\n",
    "X_test = X_test.fillna(\"\")\n"
   ]
  },
  {
   "cell_type": "markdown",
   "id": "46fb59a5",
   "metadata": {},
   "source": [
    "## Model Creation and Evaluation"
   ]
  },
  {
   "cell_type": "code",
   "execution_count": 6,
   "id": "91990898",
   "metadata": {},
   "outputs": [
    {
     "name": "stdout",
     "output_type": "stream",
     "text": [
      "\n",
      "=== Evaluation with features ['TF-IDF'] ===\n",
      "\n",
      "                    precision    recall  f1-score   support\n",
      "\n",
      "Account Management       0.93      0.69      0.79        94\n",
      "           Billing       1.00      0.30      0.46        73\n",
      "         Complaint       1.00      0.18      0.31        33\n",
      "             Other       0.88      1.00      0.93      1369\n",
      "  Praise/Thank You       0.95      0.81      0.87       258\n",
      " Technical Support       1.00      0.67      0.80       155\n",
      "\n",
      "          accuracy                           0.90      1982\n",
      "         macro avg       0.96      0.61      0.70      1982\n",
      "      weighted avg       0.91      0.90      0.88      1982\n",
      "\n",
      "\n",
      "=== Evaluation with features ['TF-IDF', 'tweet_length'] ===\n",
      "\n",
      "                    precision    recall  f1-score   support\n",
      "\n",
      "Account Management       0.93      0.72      0.81        94\n",
      "           Billing       1.00      0.27      0.43        73\n",
      "         Complaint       1.00      0.18      0.31        33\n",
      "             Other       0.88      1.00      0.94      1369\n",
      "  Praise/Thank You       0.95      0.81      0.87       258\n",
      " Technical Support       0.98      0.66      0.79       155\n",
      "\n",
      "          accuracy                           0.90      1982\n",
      "         macro avg       0.96      0.61      0.69      1982\n",
      "      weighted avg       0.90      0.90      0.88      1982\n",
      "\n",
      "\n",
      "=== Evaluation with features ['TF-IDF', 'is_question'] ===\n",
      "\n",
      "                    precision    recall  f1-score   support\n",
      "\n",
      "Account Management       0.93      0.69      0.79        94\n",
      "           Billing       1.00      0.30      0.46        73\n",
      "         Complaint       1.00      0.18      0.31        33\n",
      "             Other       0.88      1.00      0.93      1369\n",
      "  Praise/Thank You       0.95      0.80      0.87       258\n",
      " Technical Support       1.00      0.67      0.80       155\n",
      "\n",
      "          accuracy                           0.89      1982\n",
      "         macro avg       0.96      0.61      0.70      1982\n",
      "      weighted avg       0.90      0.89      0.88      1982\n",
      "\n",
      "\n",
      "=== Evaluation with features ['TF-IDF', 'sentiment_score'] ===\n",
      "\n",
      "                    precision    recall  f1-score   support\n",
      "\n",
      "Account Management       0.93      0.68      0.79        94\n",
      "           Billing       1.00      0.30      0.46        73\n",
      "         Complaint       0.92      0.33      0.49        33\n",
      "             Other       0.88      1.00      0.93      1369\n",
      "  Praise/Thank You       0.96      0.79      0.87       258\n",
      " Technical Support       1.00      0.66      0.79       155\n",
      "\n",
      "          accuracy                           0.89      1982\n",
      "         macro avg       0.95      0.63      0.72      1982\n",
      "      weighted avg       0.90      0.89      0.88      1982\n",
      "\n"
     ]
    },
    {
     "data": {
      "text/plain": [
       "(4282      Praise/Thank You\n",
       " 7615                 Other\n",
       " 9703                 Other\n",
       " 2955      Praise/Thank You\n",
       " 7372      Praise/Thank You\n",
       "                ...        \n",
       " 3559     Technical Support\n",
       " 4822      Praise/Thank You\n",
       " 1732     Technical Support\n",
       " 4079    Account Management\n",
       " 4636                 Other\n",
       " Name: intent, Length: 1982, dtype: object,\n",
       " 4484     Technical Support\n",
       " 9102                 Other\n",
       " 8115    Account Management\n",
       " 3465                 Other\n",
       " 1353                 Other\n",
       "                ...        \n",
       " 1849                 Other\n",
       " 3366      Praise/Thank You\n",
       " 6089      Praise/Thank You\n",
       " 3940                 Other\n",
       " 9806                 Other\n",
       " Name: intent, Length: 7928, dtype: object)"
      ]
     },
     "execution_count": 6,
     "metadata": {},
     "output_type": "execute_result"
    }
   ],
   "source": [
    "from scripts.evaluate_model import evaluate_model\n",
    "\n",
    "# Baseline\n",
    "evaluate_model(df)\n",
    "\n",
    "# With tweet length\n",
    "evaluate_model(df, extra_feature_names=['tweet_length'])\n",
    "\n",
    "# With question flag\n",
    "evaluate_model(df, extra_feature_names=['is_question'])\n",
    "\n",
    "# With sentiment\n",
    "evaluate_model(df, extra_feature_names=['sentiment_score'])\n"
   ]
  }
 ],
 "metadata": {
  "kernelspec": {
   "display_name": "Python 3",
   "language": "python",
   "name": "python3"
  },
  "language_info": {
   "codemirror_mode": {
    "name": "ipython",
    "version": 3
   },
   "file_extension": ".py",
   "mimetype": "text/x-python",
   "name": "python",
   "nbconvert_exporter": "python",
   "pygments_lexer": "ipython3",
   "version": "3.12.6"
  }
 },
 "nbformat": 4,
 "nbformat_minor": 5
}
