{
 "cells": [
  {
   "cell_type": "markdown",
   "id": "afe81e33",
   "metadata": {},
   "source": [
    "# Building the Model"
   ]
  },
  {
   "cell_type": "markdown",
   "id": "773756a7",
   "metadata": {},
   "source": [
    "## Import and Loading Data"
   ]
  },
  {
   "cell_type": "code",
   "execution_count": 29,
   "id": "8bee3589",
   "metadata": {},
   "outputs": [],
   "source": [
    "import pandas as pd\n",
    "import sys\n",
    "import os\n",
    "from sklearn.model_selection import train_test_split\n",
    "from scripts.evaluate_model import evaluate_model_fixed_split\n",
    "\n",
    "\n",
    "# Fixing routing issue\n",
    "project_root = os.path.abspath('..')\n",
    "sys.path.append(project_root)\n",
    "\n",
    "# Loads data\n",
    "df = pd.read_csv(\"../data/processed/golden_intent_labeled.csv\")"
   ]
  },
  {
   "cell_type": "markdown",
   "id": "f823e126",
   "metadata": {},
   "source": [
    "## Split Data"
   ]
  },
  {
   "cell_type": "code",
   "execution_count": 30,
   "id": "18fcd017",
   "metadata": {},
   "outputs": [],
   "source": [
    "X = df['cleaned_text']\n",
    "Y = df['intent']\n",
    "\n",
    "X_train, X_test, y_train, y_test = train_test_split(\n",
    "    X, Y, test_size=0.2, random_state=42, stratify=Y\n",
    ")\n",
    "\n",
    "X_train = X_train.fillna(\"\")\n",
    "X_test = X_test.fillna(\"\")\n"
   ]
  },
  {
   "cell_type": "markdown",
   "id": "46fb59a5",
   "metadata": {},
   "source": [
    "## Model Creation and Evaluation"
   ]
  },
  {
   "cell_type": "code",
   "execution_count": 31,
   "id": "91990898",
   "metadata": {},
   "outputs": [
    {
     "name": "stdout",
     "output_type": "stream",
     "text": [
      "Saved: eval_tf_idf.csv\n",
      "Saved: eval_tf_idf_plus_tweet_length.csv\n",
      "Saved: eval_tf_idf_plus_is_question.csv\n",
      "Saved: eval_tf_idf_plus_sentiment.csv\n"
     ]
    }
   ],
   "source": [
    "# Load data & fixed split (if not already done)\n",
    "df = pd.read_csv(\"../data/processed/golden_intent_labeled.csv\")\n",
    "x = df['cleaned_text'].fillna('')\n",
    "y = df['intent']\n",
    "X_train, X_test, y_train, y_test = train_test_split(\n",
    "    x, y, test_size=0.2, stratify=y, random_state=42\n",
    ")\n",
    "\n",
    "feature_config = [\n",
    "    ('TF-IDF', []),\n",
    "    ('TF-IDF + tweet_length', ['tweet_length']),\n",
    "    ('TF-IDF + is_question', ['is_question']),\n",
    "    ('TF-IDF + sentiment', ['sentiment_score']),\n",
    "]\n",
    "\n",
    "# Run eval per feature set and export separately\n",
    "for label, features in feature_config:\n",
    "    eval_df = evaluate_model_fixed_split(df, X_train, X_test, y_train, y_test, extra_feature_names=features)\n",
    "    eval_df['feature_set'] = label\n",
    "    # Save to individual file named after feature set\n",
    "    safe_label = label.lower().replace(' ', '_').replace('+', 'plus').replace('-', '_')\n",
    "    eval_df.to_csv(f\"../data/features/eval_{safe_label}.csv\", index=False)\n",
    "    print(f\"Saved: eval_{safe_label}.csv\")"
   ]
  }
 ],
 "metadata": {
  "kernelspec": {
   "display_name": "Python 3",
   "language": "python",
   "name": "python3"
  },
  "language_info": {
   "codemirror_mode": {
    "name": "ipython",
    "version": 3
   },
   "file_extension": ".py",
   "mimetype": "text/x-python",
   "name": "python",
   "nbconvert_exporter": "python",
   "pygments_lexer": "ipython3",
   "version": "3.12.6"
  }
 },
 "nbformat": 4,
 "nbformat_minor": 5
}
