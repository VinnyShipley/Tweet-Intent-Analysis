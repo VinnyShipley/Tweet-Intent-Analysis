{
 "cells": [
  {
   "cell_type": "markdown",
   "id": "afe81e33",
   "metadata": {},
   "source": [
    "# Building the Model"
   ]
  },
  {
   "cell_type": "markdown",
   "id": "773756a7",
   "metadata": {},
   "source": [
    "## Imports"
   ]
  },
  {
   "cell_type": "code",
   "execution_count": 1,
   "id": "8bee3589",
   "metadata": {},
   "outputs": [],
   "source": [
    "import pandas as pd\n",
    "import sys\n",
    "import os\n",
    "from sklearn.model_selection import train_test_split\n",
    "from sklearn.linear_model import LogisticRegression\n",
    "from sklearn.metrics import classification_report\n",
    "\n",
    "\n",
    "# Fixing routing issue\n",
    "project_root = os.path.abspath('..')\n",
    "sys.path.append(project_root)"
   ]
  },
  {
   "cell_type": "markdown",
   "id": "f5706b23",
   "metadata": {},
   "source": [
    "## Load and Prep Data"
   ]
  },
  {
   "cell_type": "code",
   "execution_count": 2,
   "id": "efc20bfa",
   "metadata": {},
   "outputs": [
    {
     "data": {
      "text/html": [
       "<div>\n",
       "<style scoped>\n",
       "    .dataframe tbody tr th:only-of-type {\n",
       "        vertical-align: middle;\n",
       "    }\n",
       "\n",
       "    .dataframe tbody tr th {\n",
       "        vertical-align: top;\n",
       "    }\n",
       "\n",
       "    .dataframe thead th {\n",
       "        text-align: right;\n",
       "    }\n",
       "</style>\n",
       "<table border=\"1\" class=\"dataframe\">\n",
       "  <thead>\n",
       "    <tr style=\"text-align: right;\">\n",
       "      <th></th>\n",
       "      <th>cleaned_text</th>\n",
       "      <th>intent</th>\n",
       "    </tr>\n",
       "  </thead>\n",
       "  <tbody>\n",
       "    <tr>\n",
       "      <th>0</th>\n",
       "      <td>whats that egg website people talk about</td>\n",
       "      <td>Other</td>\n",
       "    </tr>\n",
       "    <tr>\n",
       "      <th>1</th>\n",
       "      <td>why ios</td>\n",
       "      <td>Other</td>\n",
       "    </tr>\n",
       "    <tr>\n",
       "      <th>2</th>\n",
       "      <td>we can assist you we recommend updating to io...</td>\n",
       "      <td>Other</td>\n",
       "    </tr>\n",
       "    <tr>\n",
       "      <th>3</th>\n",
       "      <td>thats better than having an unstable connecti...</td>\n",
       "      <td>Other</td>\n",
       "    </tr>\n",
       "    <tr>\n",
       "      <th>4</th>\n",
       "      <td>is probably one of the best airlines ive ever...</td>\n",
       "      <td>Other</td>\n",
       "    </tr>\n",
       "  </tbody>\n",
       "</table>\n",
       "</div>"
      ],
      "text/plain": [
       "                                        cleaned_text intent\n",
       "0           whats that egg website people talk about  Other\n",
       "1                                           why ios   Other\n",
       "2   we can assist you we recommend updating to io...  Other\n",
       "3   thats better than having an unstable connecti...  Other\n",
       "4   is probably one of the best airlines ive ever...  Other"
      ]
     },
     "execution_count": 2,
     "metadata": {},
     "output_type": "execute_result"
    }
   ],
   "source": [
    "df = pd.read_csv(\"../data/processed/golden_intent_labeled.csv\")\n",
    "\n",
    "# Quick peep\n",
    "df[['cleaned_text', 'intent']].head()"
   ]
  },
  {
   "cell_type": "markdown",
   "id": "f823e126",
   "metadata": {},
   "source": [
    "## Split Data"
   ]
  },
  {
   "cell_type": "code",
   "execution_count": 3,
   "id": "18fcd017",
   "metadata": {},
   "outputs": [],
   "source": [
    "X = df['cleaned_text']\n",
    "Y = df['intent']\n",
    "\n",
    "X_train, X_test, y_train, y_test = train_test_split(\n",
    "    X, Y, test_size=0.2, random_state=42, stratify=Y\n",
    ")\n",
    "\n",
    "X_train = X_train.fillna(\"\")\n",
    "X_test = X_test.fillna(\"\")\n"
   ]
  },
  {
   "cell_type": "markdown",
   "id": "46fb59a5",
   "metadata": {},
   "source": [
    "## Model Creation and Evaluation"
   ]
  },
  {
   "cell_type": "code",
   "execution_count": 4,
   "id": "91990898",
   "metadata": {},
   "outputs": [
    {
     "data": {
      "text/plain": [
       "(4282      Praise/Thank You\n",
       " 7615                 Other\n",
       " 9703                 Other\n",
       " 2955      Praise/Thank You\n",
       " 7372      Praise/Thank You\n",
       "                ...        \n",
       " 3559     Technical Support\n",
       " 4822      Praise/Thank You\n",
       " 1732     Technical Support\n",
       " 4079    Account Management\n",
       " 4636                 Other\n",
       " Name: intent, Length: 1982, dtype: object,\n",
       " 4484     Technical Support\n",
       " 9102                 Other\n",
       " 8115    Account Management\n",
       " 3465                 Other\n",
       " 1353                 Other\n",
       "                ...        \n",
       " 1849                 Other\n",
       " 3366      Praise/Thank You\n",
       " 6089      Praise/Thank You\n",
       " 3940                 Other\n",
       " 9806                 Other\n",
       " Name: intent, Length: 7928, dtype: object)"
      ]
     },
     "execution_count": 4,
     "metadata": {},
     "output_type": "execute_result"
    }
   ],
   "source": [
    "from scripts.evaluate_model import evaluate_model\n",
    "\n",
    "# Baseline\n",
    "evaluate_model(df)\n",
    "\n",
    "# With tweet length\n",
    "evaluate_model(df, extra_feature_names=['tweet_length'])\n",
    "\n",
    "# With question flag\n",
    "evaluate_model(df, extra_feature_names=['is_question'])\n",
    "\n",
    "# With sentiment\n",
    "evaluate_model(df, extra_feature_names=['sentiment_score'])\n"
   ]
  }
 ],
 "metadata": {
  "kernelspec": {
   "display_name": "Python 3",
   "language": "python",
   "name": "python3"
  },
  "language_info": {
   "codemirror_mode": {
    "name": "ipython",
    "version": 3
   },
   "file_extension": ".py",
   "mimetype": "text/x-python",
   "name": "python",
   "nbconvert_exporter": "python",
   "pygments_lexer": "ipython3",
   "version": "3.12.6"
  }
 },
 "nbformat": 4,
 "nbformat_minor": 5
}
