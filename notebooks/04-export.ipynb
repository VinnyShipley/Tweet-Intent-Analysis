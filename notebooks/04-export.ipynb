{
 "cells": [
  {
   "cell_type": "markdown",
   "id": "c8367616",
   "metadata": {},
   "source": [
    "# Exporting for Feature Analysis in Tableau"
   ]
  },
  {
   "cell_type": "code",
   "execution_count": 9,
   "id": "663e8868",
   "metadata": {},
   "outputs": [
    {
     "name": "stdout",
     "output_type": "stream",
     "text": [
      "✅ Combined export created for Tableau\n"
     ]
    }
   ],
   "source": [
    "# Load baseline and feature files\n",
    "df_base = pd.read_csv(\"../data/features/eval_tf_idf.csv\")\n",
    "df_tweet_length = pd.read_csv(\"../data/features/eval_tf_idf_plus_tweet_length.csv\")\n",
    "df_is_question = pd.read_csv(\"../data/features/eval_tf_idf_plus_is_question.csv\")\n",
    "df_sentiment = pd.read_csv(\"../data/features/eval_tf_idf_plus_sentiment.csv\")\n",
    "\n",
    "# Start from baseline, add columns from others\n",
    "df_combined = df_base.copy()\n",
    "\n",
    "# Add feature columns from each\n",
    "df_combined['tweet_length'] = df_tweet_length['tweet_length']\n",
    "df_combined['is_question'] = df_is_question['is_question']\n",
    "df_combined['sentiment_score'] = df_sentiment['sentiment_score']\n",
    "\n",
    "# feature_set column from baseline is fine (or you can drop these if redundant)\n",
    "\n",
    "# Export combined for Tableau\n",
    "df_combined.to_csv(\"../data/exports/eval_results_for_tableau.csv\", index=False)\n",
    "print(\"✅ Combined export created for Tableau\")"
   ]
  }
 ],
 "metadata": {
  "kernelspec": {
   "display_name": "Python 3",
   "language": "python",
   "name": "python3"
  },
  "language_info": {
   "codemirror_mode": {
    "name": "ipython",
    "version": 3
   },
   "file_extension": ".py",
   "mimetype": "text/x-python",
   "name": "python",
   "nbconvert_exporter": "python",
   "pygments_lexer": "ipython3",
   "version": "3.12.6"
  }
 },
 "nbformat": 4,
 "nbformat_minor": 5
}
