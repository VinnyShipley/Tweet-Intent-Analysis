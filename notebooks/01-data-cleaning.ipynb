{
 "cells": [
  {
   "cell_type": "markdown",
   "id": "6d2e2cf8",
   "metadata": {},
   "source": [
    "# Pull in the Dataset"
   ]
  },
  {
   "cell_type": "code",
   "execution_count": 1,
   "id": "a889370c",
   "metadata": {},
   "outputs": [],
   "source": [
    "import pandas as pd\n",
    "import sys\n",
    "import os\n",
    "\n",
    "\n",
    "# Fixing routing issue\n",
    "project_root = os.path.abspath('..')\n",
    "if project_root not in sys.path:\n",
    "    sys.path.append(project_root)\n",
    "\n",
    "# Load the dataset\n",
    "data_path = '../data/raw/twcs/twcs.csv'\n",
    "df = pd.read_csv(data_path)\n",
    "\n",
    "df = df.sample(n=10000, random_state=42).reset_index(drop=True)\n"
   ]
  },
  {
   "cell_type": "markdown",
   "id": "34ca1cf0",
   "metadata": {},
   "source": [
    "# Basic Info and Preview"
   ]
  },
  {
   "cell_type": "code",
   "execution_count": 2,
   "id": "732cd32a",
   "metadata": {},
   "outputs": [
    {
     "name": "stdout",
     "output_type": "stream",
     "text": [
      "Rows: 10000\n",
      "Columns: 7\n",
      "Coulmn names: ['tweet_id', 'author_id', 'inbound', 'created_at', 'text', 'response_tweet_id', 'in_response_to_tweet_id']\n"
     ]
    },
    {
     "data": {
      "text/html": [
       "<div>\n",
       "<style scoped>\n",
       "    .dataframe tbody tr th:only-of-type {\n",
       "        vertical-align: middle;\n",
       "    }\n",
       "\n",
       "    .dataframe tbody tr th {\n",
       "        vertical-align: top;\n",
       "    }\n",
       "\n",
       "    .dataframe thead th {\n",
       "        text-align: right;\n",
       "    }\n",
       "</style>\n",
       "<table border=\"1\" class=\"dataframe\">\n",
       "  <thead>\n",
       "    <tr style=\"text-align: right;\">\n",
       "      <th></th>\n",
       "      <th>tweet_id</th>\n",
       "      <th>author_id</th>\n",
       "      <th>inbound</th>\n",
       "      <th>created_at</th>\n",
       "      <th>text</th>\n",
       "      <th>response_tweet_id</th>\n",
       "      <th>in_response_to_tweet_id</th>\n",
       "    </tr>\n",
       "  </thead>\n",
       "  <tbody>\n",
       "    <tr>\n",
       "      <th>0</th>\n",
       "      <td>192624</td>\n",
       "      <td>161253</td>\n",
       "      <td>True</td>\n",
       "      <td>Wed Oct 04 13:59:33 +0000 2017</td>\n",
       "      <td>@161252 What's that egg website people talk about</td>\n",
       "      <td>192623</td>\n",
       "      <td>192625.0</td>\n",
       "    </tr>\n",
       "    <tr>\n",
       "      <th>1</th>\n",
       "      <td>738238</td>\n",
       "      <td>296574</td>\n",
       "      <td>True</td>\n",
       "      <td>Fri Oct 06 18:29:06 +0000 2017</td>\n",
       "      <td>Why!🤷🏻‍♀️ #iOS11 @AppleSupport https://t.co/BX...</td>\n",
       "      <td>738237</td>\n",
       "      <td>NaN</td>\n",
       "    </tr>\n",
       "    <tr>\n",
       "      <th>2</th>\n",
       "      <td>2414302</td>\n",
       "      <td>AppleSupport</td>\n",
       "      <td>False</td>\n",
       "      <td>Tue Nov 14 17:38:01 +0000 2017</td>\n",
       "      <td>@693975 We can assist you. We recommend updati...</td>\n",
       "      <td>2414303</td>\n",
       "      <td>2414304.0</td>\n",
       "    </tr>\n",
       "    <tr>\n",
       "      <th>3</th>\n",
       "      <td>1793929</td>\n",
       "      <td>539096</td>\n",
       "      <td>True</td>\n",
       "      <td>Thu Oct 12 06:04:41 +0000 2017</td>\n",
       "      <td>@331912 @115955 Thats better than having an un...</td>\n",
       "      <td>1793928</td>\n",
       "      <td>1793930.0</td>\n",
       "    </tr>\n",
       "    <tr>\n",
       "      <th>4</th>\n",
       "      <td>2088018</td>\n",
       "      <td>617376</td>\n",
       "      <td>True</td>\n",
       "      <td>Mon Nov 06 20:30:49 +0000 2017</td>\n",
       "      <td>@VirginAmerica is probably one of the best air...</td>\n",
       "      <td>2088017</td>\n",
       "      <td>NaN</td>\n",
       "    </tr>\n",
       "  </tbody>\n",
       "</table>\n",
       "</div>"
      ],
      "text/plain": [
       "   tweet_id     author_id  inbound                      created_at  \\\n",
       "0    192624        161253     True  Wed Oct 04 13:59:33 +0000 2017   \n",
       "1    738238        296574     True  Fri Oct 06 18:29:06 +0000 2017   \n",
       "2   2414302  AppleSupport    False  Tue Nov 14 17:38:01 +0000 2017   \n",
       "3   1793929        539096     True  Thu Oct 12 06:04:41 +0000 2017   \n",
       "4   2088018        617376     True  Mon Nov 06 20:30:49 +0000 2017   \n",
       "\n",
       "                                                text response_tweet_id  \\\n",
       "0  @161252 What's that egg website people talk about            192623   \n",
       "1  Why!🤷🏻‍♀️ #iOS11 @AppleSupport https://t.co/BX...            738237   \n",
       "2  @693975 We can assist you. We recommend updati...           2414303   \n",
       "3  @331912 @115955 Thats better than having an un...           1793928   \n",
       "4  @VirginAmerica is probably one of the best air...           2088017   \n",
       "\n",
       "   in_response_to_tweet_id  \n",
       "0                 192625.0  \n",
       "1                      NaN  \n",
       "2                2414304.0  \n",
       "3                1793930.0  \n",
       "4                      NaN  "
      ]
     },
     "metadata": {},
     "output_type": "display_data"
    }
   ],
   "source": [
    "# Basic Info\n",
    "print(f\"Rows: {len(df)}\")\n",
    "print(f\"Columns: {len(df.columns)}\")\n",
    "print(\"Coulmn names:\", df.columns.tolist())\n",
    "\n",
    "# Peep the first five rows\n",
    "display(df.head())"
   ]
  },
  {
   "cell_type": "markdown",
   "id": "41c8a469",
   "metadata": {},
   "source": [
    "# Missing Value Check"
   ]
  },
  {
   "cell_type": "code",
   "execution_count": 3,
   "id": "604f4f8c",
   "metadata": {},
   "outputs": [
    {
     "data": {
      "text/plain": [
       "response_tweet_id          3772\n",
       "in_response_to_tweet_id    2769\n",
       "dtype: int64"
      ]
     },
     "execution_count": 3,
     "metadata": {},
     "output_type": "execute_result"
    }
   ],
   "source": [
    "missing_counts = df.isnull().sum()\n",
    "missing_counts[missing_counts > 0]"
   ]
  },
  {
   "cell_type": "markdown",
   "id": "2996c16d",
   "metadata": {},
   "source": [
    "# Category Distribution"
   ]
  },
  {
   "cell_type": "code",
   "execution_count": 4,
   "id": "00ef8e97",
   "metadata": {},
   "outputs": [],
   "source": [
    "if 'category' in df.columns:\n",
    "    print(df['category'].value_counts())"
   ]
  },
  {
   "cell_type": "markdown",
   "id": "87c84381",
   "metadata": {},
   "source": [
    "# Tweet Length Stats and Histogram"
   ]
  },
  {
   "cell_type": "code",
   "execution_count": 5,
   "id": "4a341c6f",
   "metadata": {},
   "outputs": [
    {
     "name": "stdout",
     "output_type": "stream",
     "text": [
      "count    10000.000000\n",
      "mean       114.738500\n",
      "std         53.208697\n",
      "min          2.000000\n",
      "25%         79.000000\n",
      "50%        116.000000\n",
      "75%        140.000000\n",
      "max        392.000000\n",
      "Name: tweet_length, dtype: float64\n"
     ]
    },
    {
     "data": {
      "image/png": "[encoded data removed]",
      "text/plain": [
       "<Figure size 640x480 with 1 Axes>"
      ]
     },
     "metadata": {},
     "output_type": "display_data"
    }
   ],
   "source": [
    "df['tweet_length'] = df['text'].astype(str).apply(len)\n",
    "print(df['tweet_length'].describe())\n",
    "\n",
    "import matplotlib.pyplot as plt\n",
    "plt.hist(df['tweet_length'], bins=30)\n",
    "plt.title(\"Tweet Length Distribution\")\n",
    "plt.xlabel(\"Characters\")\n",
    "plt.ylabel(\"Number of Tweets\")\n",
    "plt.show()"
   ]
  },
  {
   "cell_type": "markdown",
   "id": "ca4a926a",
   "metadata": {},
   "source": [
    "# Cleaning Tweets"
   ]
  },
  {
   "cell_type": "code",
   "execution_count": 8,
   "id": "24ecee88",
   "metadata": {},
   "outputs": [],
   "source": [
    "from scripts.preprocess import clean_tweet_text, is_question, get_sentiment_score\n",
    "\n",
    "# Run the is_question function on data before cleaning\n",
    "df['is_question'] = df['text'].apply(is_question)\n",
    "\n",
    "# Run the get_sentiment_score function on data before cleaning\n",
    "df['sentiment_score'] = df['text'].apply(get_sentiment_score)\n",
    "\n",
    "# Apply the function to data in text column for sample dataset\n",
    "df['cleaned_text'] = df['text'].apply(clean_tweet_text)\n",
    "\n",
    "# Drops empty or null cleaned rows\n",
    "df = df[df['cleaned_text'].notna()]\n",
    "df = df[df['cleaned_text'].str.strip() != '']"
   ]
  },
  {
   "cell_type": "markdown",
   "id": "273b4ebe",
   "metadata": {},
   "source": [
    "# Create Cleaned Tweets CSV File"
   ]
  },
  {
   "cell_type": "code",
   "execution_count": 7,
   "id": "393ce8d5",
   "metadata": {},
   "outputs": [
    {
     "name": "stdout",
     "output_type": "stream",
     "text": [
      "Cleaned tweets have been saved to data/processed/cleaned_tweets.csv\n"
     ]
    }
   ],
   "source": [
    "df.to_csv(\"../data/processed/cleaned_tweets.csv\", index=False, encoding='utf-8')\n",
    "print(\"Cleaned tweets have been saved to data/processed/cleaned_tweets.csv\")"
   ]
  }
 ],
 "metadata": {
  "kernelspec": {
   "display_name": "Python 3",
   "language": "python",
   "name": "python3"
  },
  "language_info": {
   "codemirror_mode": {
    "name": "ipython",
    "version": 3
   },
   "file_extension": ".py",
   "mimetype": "text/x-python",
   "name": "python",
   "nbconvert_exporter": "python",
   "pygments_lexer": "ipython3",
   "version": "3.12.6"
  }
 },
 "nbformat": 4,
 "nbformat_minor": 5
}
