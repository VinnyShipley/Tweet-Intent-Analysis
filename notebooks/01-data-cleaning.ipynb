{
 "cells": [
  {
   "cell_type": "markdown",
   "id": "6d2e2cf8",
   "metadata": {},
   "source": [
    "# Pull in the Dataset"
   ]
  },
  {
   "cell_type": "code",
   "execution_count": 16,
   "id": "a889370c",
   "metadata": {},
   "outputs": [],
   "source": [
    "import pandas as pd\n",
    "\n",
    "# Load the dataset\n",
    "data_path = '../data/raw/twcs/twcs.csv'\n",
    "df = pd.read_csv(data_path)\n"
   ]
  },
  {
   "cell_type": "markdown",
   "id": "34ca1cf0",
   "metadata": {},
   "source": [
    "# Basic Info and Preview"
   ]
  },
  {
   "cell_type": "code",
   "execution_count": 17,
   "id": "732cd32a",
   "metadata": {},
   "outputs": [
    {
     "name": "stdout",
     "output_type": "stream",
     "text": [
      "Rows: 2811774\n",
      "Columns: 7\n",
      "Coulmn names: ['tweet_id', 'author_id', 'inbound', 'created_at', 'text', 'response_tweet_id', 'in_response_to_tweet_id']\n"
     ]
    },
    {
     "data": {
      "text/html": [
       "<div>\n",
       "<style scoped>\n",
       "    .dataframe tbody tr th:only-of-type {\n",
       "        vertical-align: middle;\n",
       "    }\n",
       "\n",
       "    .dataframe tbody tr th {\n",
       "        vertical-align: top;\n",
       "    }\n",
       "\n",
       "    .dataframe thead th {\n",
       "        text-align: right;\n",
       "    }\n",
       "</style>\n",
       "<table border=\"1\" class=\"dataframe\">\n",
       "  <thead>\n",
       "    <tr style=\"text-align: right;\">\n",
       "      <th></th>\n",
       "      <th>tweet_id</th>\n",
       "      <th>author_id</th>\n",
       "      <th>inbound</th>\n",
       "      <th>created_at</th>\n",
       "      <th>text</th>\n",
       "      <th>response_tweet_id</th>\n",
       "      <th>in_response_to_tweet_id</th>\n",
       "    </tr>\n",
       "  </thead>\n",
       "  <tbody>\n",
       "    <tr>\n",
       "      <th>0</th>\n",
       "      <td>1</td>\n",
       "      <td>sprintcare</td>\n",
       "      <td>False</td>\n",
       "      <td>Tue Oct 31 22:10:47 +0000 2017</td>\n",
       "      <td>@115712 I understand. I would like to assist y...</td>\n",
       "      <td>2</td>\n",
       "      <td>3.0</td>\n",
       "    </tr>\n",
       "    <tr>\n",
       "      <th>1</th>\n",
       "      <td>2</td>\n",
       "      <td>115712</td>\n",
       "      <td>True</td>\n",
       "      <td>Tue Oct 31 22:11:45 +0000 2017</td>\n",
       "      <td>@sprintcare and how do you propose we do that</td>\n",
       "      <td>NaN</td>\n",
       "      <td>1.0</td>\n",
       "    </tr>\n",
       "    <tr>\n",
       "      <th>2</th>\n",
       "      <td>3</td>\n",
       "      <td>115712</td>\n",
       "      <td>True</td>\n",
       "      <td>Tue Oct 31 22:08:27 +0000 2017</td>\n",
       "      <td>@sprintcare I have sent several private messag...</td>\n",
       "      <td>1</td>\n",
       "      <td>4.0</td>\n",
       "    </tr>\n",
       "    <tr>\n",
       "      <th>3</th>\n",
       "      <td>4</td>\n",
       "      <td>sprintcare</td>\n",
       "      <td>False</td>\n",
       "      <td>Tue Oct 31 21:54:49 +0000 2017</td>\n",
       "      <td>@115712 Please send us a Private Message so th...</td>\n",
       "      <td>3</td>\n",
       "      <td>5.0</td>\n",
       "    </tr>\n",
       "    <tr>\n",
       "      <th>4</th>\n",
       "      <td>5</td>\n",
       "      <td>115712</td>\n",
       "      <td>True</td>\n",
       "      <td>Tue Oct 31 21:49:35 +0000 2017</td>\n",
       "      <td>@sprintcare I did.</td>\n",
       "      <td>4</td>\n",
       "      <td>6.0</td>\n",
       "    </tr>\n",
       "  </tbody>\n",
       "</table>\n",
       "</div>"
      ],
      "text/plain": [
       "   tweet_id   author_id  inbound                      created_at  \\\n",
       "0         1  sprintcare    False  Tue Oct 31 22:10:47 +0000 2017   \n",
       "1         2      115712     True  Tue Oct 31 22:11:45 +0000 2017   \n",
       "2         3      115712     True  Tue Oct 31 22:08:27 +0000 2017   \n",
       "3         4  sprintcare    False  Tue Oct 31 21:54:49 +0000 2017   \n",
       "4         5      115712     True  Tue Oct 31 21:49:35 +0000 2017   \n",
       "\n",
       "                                                text response_tweet_id  \\\n",
       "0  @115712 I understand. I would like to assist y...                 2   \n",
       "1      @sprintcare and how do you propose we do that               NaN   \n",
       "2  @sprintcare I have sent several private messag...                 1   \n",
       "3  @115712 Please send us a Private Message so th...                 3   \n",
       "4                                 @sprintcare I did.                 4   \n",
       "\n",
       "   in_response_to_tweet_id  \n",
       "0                      3.0  \n",
       "1                      1.0  \n",
       "2                      4.0  \n",
       "3                      5.0  \n",
       "4                      6.0  "
      ]
     },
     "metadata": {},
     "output_type": "display_data"
    }
   ],
   "source": [
    "# Basic Info\n",
    "print(f\"Rows: {len(df)}\")\n",
    "print(f\"Columns: {len(df.columns)}\")\n",
    "print(\"Coulmn names:\", df.columns.tolist())\n",
    "\n",
    "# Peep the first five rows\n",
    "display(df.head())"
   ]
  },
  {
   "cell_type": "markdown",
   "id": "41c8a469",
   "metadata": {},
   "source": [
    "# Missing Value Check"
   ]
  },
  {
   "cell_type": "code",
   "execution_count": 12,
   "id": "604f4f8c",
   "metadata": {},
   "outputs": [
    {
     "data": {
      "text/plain": [
       "response_tweet_id          1040629\n",
       "in_response_to_tweet_id     794335\n",
       "dtype: int64"
      ]
     },
     "execution_count": 12,
     "metadata": {},
     "output_type": "execute_result"
    }
   ],
   "source": [
    "missing_counts = df.isnull().sum()\n",
    "missing_counts[missing_counts > 0]"
   ]
  },
  {
   "cell_type": "markdown",
   "id": "2996c16d",
   "metadata": {},
   "source": [
    "# Category Distribution"
   ]
  },
  {
   "cell_type": "code",
   "execution_count": 13,
   "id": "00ef8e97",
   "metadata": {},
   "outputs": [],
   "source": [
    "if 'category' in df.columns:\n",
    "    print(df['category'].value_counts())"
   ]
  },
  {
   "cell_type": "markdown",
   "id": "87c84381",
   "metadata": {},
   "source": [
    "# Tweet Length Stats and Histogram"
   ]
  },
  {
   "cell_type": "code",
   "execution_count": 14,
   "id": "4a341c6f",
   "metadata": {},
   "outputs": [
    {
     "name": "stdout",
     "output_type": "stream",
     "text": [
      "count    2.811774e+06\n",
      "mean     1.138897e+02\n",
      "std      5.234562e+01\n",
      "min      1.000000e+00\n",
      "25%      7.800000e+01\n",
      "50%      1.150000e+02\n",
      "75%      1.390000e+02\n",
      "max      5.130000e+02\n",
      "Name: tweet_length, dtype: float64\n"
     ]
    },
    {
     "data": {
      "image/png": "[encoded data removed]",
      "text/plain": [
       "<Figure size 640x480 with 1 Axes>"
      ]
     },
     "metadata": {},
     "output_type": "display_data"
    }
   ],
   "source": [
    "df['tweet_length'] = df['text'].astype(str).apply(len)\n",
    "print(df['tweet_length'].describe())\n",
    "\n",
    "import matplotlib.pyplot as plt\n",
    "plt.hist(df['tweet_length'], bins=30)\n",
    "plt.title(\"Tweet Length Distribution\")\n",
    "plt.xlabel(\"Characters\")\n",
    "plt.ylabel(\"Number of Tweets\")\n",
    "plt.show()"
   ]
  },
  {
   "cell_type": "markdown",
   "id": "ca4a926a",
   "metadata": {},
   "source": [
    "# Cleaning Tweets"
   ]
  },
  {
   "cell_type": "code",
   "execution_count": 23,
   "id": "24ecee88",
   "metadata": {},
   "outputs": [
    {
     "name": "stdout",
     "output_type": "stream",
     "text": [
      "                                                      text  \\\n",
      "2023926  @524755 Apologies for the trouble.We have forw...   \n",
      "2393226  @GWRHelp Hi Jordan, the question/statement was...   \n",
      "74658    @VirginTrains Pass my comments on?! What good ...   \n",
      "204620   @172883 Understood. May we ask which iOS versi...   \n",
      "1054382  @268078 Nicholas, we're so sorry for the unexp...   \n",
      "\n",
      "                                              cleaned_text  \n",
      "2023926   apologies for the troublewe have forwarded yo...  \n",
      "2393226   hi jordan the questionstatement was that the ...  \n",
      "74658     pass my comments on what good will it do me t...  \n",
      "204620    understood may we ask which ios version youre...  \n",
      "1054382   nicholas were so sorry for the unexpected can...  \n"
     ]
    }
   ],
   "source": [
    "from scripts.preprocess import clean_tweet_text\n",
    "import sys\n",
    "import os\n",
    "\n",
    "# Fixing routing issue\n",
    "project_root = os.path.abspath('..')\n",
    "sys.path.append(project_root)\n",
    "\n",
    "# Apply the function to data in text column for entire dataset\n",
    "# df['cleaned_text'] = df['text'].apply(clean_tweet_text)\n",
    "\n",
    "# Apply the function to data in text column for sample dataset\n",
    "df_sample = df.sample(10000)  # 10k rows\n",
    "df_sample['cleaned_text'] = df_sample['text'].apply(clean_tweet_text)\n",
    "\n",
    "# Peep the cleaned sample data \n",
    "print(df_sample[['text', 'cleaned_text']].head())"
   ]
  },
  {
   "cell_type": "markdown",
   "id": "273b4ebe",
   "metadata": {},
   "source": [
    "# Create Cleaned Tweets CSV File"
   ]
  },
  {
   "cell_type": "code",
   "execution_count": 22,
   "id": "393ce8d5",
   "metadata": {},
   "outputs": [
    {
     "name": "stdout",
     "output_type": "stream",
     "text": [
      "Cleaned tweets have been saved to data/processed/cleaned_tweets.csv\n"
     ]
    }
   ],
   "source": [
    "df_sample.to_csv(\"../data/processed/cleaned_tweets.csv\", index=False, encoding='utf-8')\n",
    "print(\"Cleaned tweets have been saved to data/processed/cleaned_tweets.csv\")"
   ]
  }
 ],
 "metadata": {
  "kernelspec": {
   "display_name": "Python 3",
   "language": "python",
   "name": "python3"
  },
  "language_info": {
   "codemirror_mode": {
    "name": "ipython",
    "version": 3
   },
   "file_extension": ".py",
   "mimetype": "text/x-python",
   "name": "python",
   "nbconvert_exporter": "python",
   "pygments_lexer": "ipython3",
   "version": "3.12.6"
  }
 },
 "nbformat": 4,
 "nbformat_minor": 5
}
