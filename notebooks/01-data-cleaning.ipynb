{
 "cells": [
  {
   "cell_type": "markdown",
   "id": "6d2e2cf8",
   "metadata": {},
   "source": [
    "# Data Formatting, Cleaning and Sizing"
   ]
  },
  {
   "cell_type": "code",
   "execution_count": 19,
   "id": "a889370c",
   "metadata": {},
   "outputs": [],
   "source": [
    "import pandas as pd\n",
    "import sys\n",
    "import os\n",
    "\n",
    "\n",
    "# Fixing routing issue\n",
    "project_root = os.path.abspath('..')\n",
    "if project_root not in sys.path:\n",
    "    sys.path.append(project_root)\n",
    "\n",
    "# Load the dataset\n",
    "data_path = '../data/raw/twcs/twcs.csv'\n",
    "df = pd.read_csv(data_path)\n",
    "\n",
    "# Cuts down to sample size of 10000 entries\n",
    "df = df.sample(n=10000, random_state=42).reset_index(drop=True)"
   ]
  },
  {
   "cell_type": "markdown",
   "id": "41c8a469",
   "metadata": {},
   "source": [
    "# Missing Value Check"
   ]
  },
  {
   "cell_type": "code",
   "execution_count": 20,
   "id": "604f4f8c",
   "metadata": {},
   "outputs": [
    {
     "data": {
      "text/plain": [
       "response_tweet_id          3772\n",
       "in_response_to_tweet_id    2769\n",
       "dtype: int64"
      ]
     },
     "execution_count": 20,
     "metadata": {},
     "output_type": "execute_result"
    }
   ],
   "source": [
    "missing_counts = df.isnull().sum()\n",
    "missing_counts[missing_counts > 0]"
   ]
  },
  {
   "cell_type": "markdown",
   "id": "2996c16d",
   "metadata": {},
   "source": [
    "# Category Distribution"
   ]
  },
  {
   "cell_type": "code",
   "execution_count": 21,
   "id": "00ef8e97",
   "metadata": {},
   "outputs": [],
   "source": [
    "if 'category' in df.columns:\n",
    "    print(df['category'].value_counts())"
   ]
  },
  {
   "cell_type": "markdown",
   "id": "87c84381",
   "metadata": {},
   "source": [
    "# Tweet Length Stats and Histogram"
   ]
  },
  {
   "cell_type": "code",
   "execution_count": 22,
   "id": "4a341c6f",
   "metadata": {},
   "outputs": [],
   "source": [
    "df['tweet_length'] = df['text'].astype(str).apply(len)"
   ]
  },
  {
   "cell_type": "markdown",
   "id": "ca4a926a",
   "metadata": {},
   "source": [
    "# Cleaning Tweets"
   ]
  },
  {
   "cell_type": "code",
   "execution_count": 23,
   "id": "24ecee88",
   "metadata": {},
   "outputs": [],
   "source": [
    "from scripts.preprocess import clean_tweet_text, is_question, get_sentiment_score\n",
    "\n",
    "# Run the is_question function on data before cleaning\n",
    "df['is_question'] = df['text'].apply(is_question)\n",
    "\n",
    "# Run the get_sentiment_score function on data before cleaning\n",
    "df['sentiment_score'] = df['text'].apply(get_sentiment_score)\n",
    "\n",
    "# Apply the function to data in text column for sample dataset\n",
    "df['cleaned_text'] = df['text'].apply(clean_tweet_text)\n",
    "\n",
    "# Drops empty or null cleaned rows\n",
    "df = df[df['cleaned_text'].notna()]\n",
    "df = df[df['cleaned_text'].str.strip() != '']"
   ]
  },
  {
   "cell_type": "markdown",
   "id": "273b4ebe",
   "metadata": {},
   "source": [
    "# Create Cleaned Tweets CSV File"
   ]
  },
  {
   "cell_type": "code",
   "execution_count": 24,
   "id": "393ce8d5",
   "metadata": {},
   "outputs": [
    {
     "name": "stdout",
     "output_type": "stream",
     "text": [
      "Cleaned tweets have been saved to data/processed/cleaned_tweets.csv\n"
     ]
    }
   ],
   "source": [
    "df.to_csv(\"../data/processed/cleaned_tweets.csv\", index=False, encoding='utf-8')\n",
    "print(\"Cleaned tweets have been saved to data/processed/cleaned_tweets.csv\")"
   ]
  }
 ],
 "metadata": {
  "kernelspec": {
   "display_name": "Python 3",
   "language": "python",
   "name": "python3"
  },
  "language_info": {
   "codemirror_mode": {
    "name": "ipython",
    "version": 3
   },
   "file_extension": ".py",
   "mimetype": "text/x-python",
   "name": "python",
   "nbconvert_exporter": "python",
   "pygments_lexer": "ipython3",
   "version": "3.12.6"
  }
 },
 "nbformat": 4,
 "nbformat_minor": 5
}
