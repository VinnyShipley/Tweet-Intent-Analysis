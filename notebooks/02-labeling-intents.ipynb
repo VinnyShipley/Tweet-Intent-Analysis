{
 "cells": [
  {
   "cell_type": "markdown",
   "id": "2d70ce92",
   "metadata": {},
   "source": [
    "# 02 - Labeling Intent\n",
    "\n",
    "This notebook is where we create our **Golden Dataset** — a high-quality, manually labeled sample of customer tweets, annotated by intent.\n",
    "\n",
    "---\n",
    "\n",
    "### Intent Categories\n",
    "\n",
    "| Intent Label        | Description                                      |\n",
    "|---------------------|------------------------------------------------|\n",
    "| `cancel_service`    | Customer wants to cancel account or switch plan|\n",
    "| `billing_issue`     | Complaints or questions about billing           |\n",
    "| `technical_issue`   | Problems with device, network, or service       |\n",
    "| `account_help`      | Issues with account management or login         |\n",
    "| `upgrade_request`   | Requests to upgrade device or plan               |\n",
    "| `general_question`  | General questions or inquiries                    |\n",
    "| `positive_feedback` | Praise or compliments                             |\n",
    "| `complaint`         | Negative feedback not related to billing or tech|\n",
    "| `other`             | Anything else or unclear                          |"
   ]
  },
  {
   "cell_type": "markdown",
   "id": "ec2c93f5",
   "metadata": {},
   "source": [
    "# Labeling and Logic of Categorization"
   ]
  },
  {
   "cell_type": "code",
   "execution_count": 11,
   "id": "1ecc7d2e",
   "metadata": {},
   "outputs": [],
   "source": [
    "import pandas as pd\n",
    "import sys\n",
    "import os\n",
    "\n",
    "\n",
    "# Fixing routing issue\n",
    "project_root = os.path.abspath('..')\n",
    "sys.path.append(project_root)\n",
    "\n",
    "from scripts.preprocess import assign_intent\n",
    "\n",
    "# Loads Data from Cleaned CSV\n",
    "df = pd.read_csv(\"../data/processed/cleaned_tweets.csv\")\n",
    "\n",
    "# Sample 250 rows to label\n",
    "golden_df = df.sample(250, random_state=42).copy()\n",
    "\n",
    "# Creates Categories to put into column later\n",
    "intent_categories = [\n",
    "    \"Billing\",\n",
    "    \"Technical Support\",\n",
    "    \"Account Management\",\n",
    "    \"Complaint\",\n",
    "    \"Praise/Thank You\",\n",
    "    \"Other\"\n",
    "]\n",
    "\n",
    "keywords = {\n",
    "    \"Billing\": [\"bill\", \"charge\", \"payment\", \"refund\"],\n",
    "    \"Technical Support\": [\"error\", \"issue\", \"problem\", \"disconnect\", \"slow\"],\n",
    "    \"Account Management\": [\"password\", \"login\", \"account\", \"reset\"],\n",
    "    \"Complaint\": [\"bad\", \"terrible\", \"worst\", \"disappointed\", \"angry\"],\n",
    "    \"Praise/Thank You\": [\"thank\", \"great\", \"love\", \"awesome\", \"appreciate\"]\n",
    "}"
   ]
  },
  {
   "cell_type": "markdown",
   "id": "dae5ffa4",
   "metadata": {},
   "source": [
    "# Apply Categorization Function to Datarframe and Write to CSV file"
   ]
  },
  {
   "cell_type": "code",
   "execution_count": 14,
   "id": "1510442e",
   "metadata": {},
   "outputs": [
    {
     "name": "stdout",
     "output_type": "stream",
     "text": [
      "                                           cleaned_text              intent\n",
      "1941   im sorry your package is arriving later than ...               Other\n",
      "9211   specifically the two young ladies that worked...               Other\n",
      "704   dear uber team i have uber account with the no...  Account Management\n",
      "3718   but train left on time despite boards stating...               Other\n",
      "8208   hi there please send us a dm in order for us ...               Other\n",
      "9597   apologies for trouble caused to you as checke...             Billing\n",
      "9330  in love with my new iphone x thanks iphonex ap...    Praise/Thank You\n",
      "4819   still strong after five years thats awesome t...    Praise/Thank You\n",
      "9028         when redzone isnt working on my xboxltltlt               Other\n",
      "4634   i cant update my payment info because your we...             Billing\n",
      "                                           cleaned_text  tweet_length\n",
      "8736   thanks for your kind words what time service ...          87.0\n",
      "6292   i dont even know what connect is jp its the d...         116.0\n",
      "991   when you want to go home for thanksgiving for ...         111.0\n",
      "1163   after a long wait for days i followed up at t...          69.0\n",
      "4835  very disappointed in huge for missing one leg ...         107.0\n",
      "9291  get this found a rug at scanned it with my app...         244.0\n",
      "6508   nj statewide rollout i dont have fios you tot...          61.0\n",
      "8622   ohje weit du zuflligerweise welcher transport...          80.0\n",
      "6862                                  amazon fire stick          18.0\n",
      "7530  dear am i wrong in asking refund for this noki...          98.0\n",
      "Golden dataset saved\n"
     ]
    }
   ],
   "source": [
    "df['intent'] = df['cleaned_text'].apply(lambda text: assign_intent(text, keywords))\n",
    "print(df[['cleaned_text', 'intent']].sample(10))\n",
    "\n",
    "df['tweet_length'] = df['cleaned_text'].str.len()\n",
    "\n",
    "print(df[['cleaned_text', 'tweet_length']].sample(10))\n",
    "\n",
    "# Writes golden dataset to csv file\n",
    "df.to_csv(\"../data/processed/golden_intent_labeled.csv\", index=False)\n",
    "print(\"Golden dataset saved\")"
   ]
  },
  {
   "cell_type": "markdown",
   "id": "a18a8eef",
   "metadata": {},
   "source": [
    "# Quick Evaluation"
   ]
  },
  {
   "cell_type": "code",
   "execution_count": 13,
   "id": "86291caa",
   "metadata": {},
   "outputs": [
    {
     "name": "stdout",
     "output_type": "stream",
     "text": [
      "Intent: Other\n",
      "\n",
      "  1.  you for choosing airtel martha \n",
      "\n",
      "  2. hey am trying so hard to track down hallowed but have been to stores and nothing staff never heard of it can you help\n",
      "\n",
      "  3.  hey andy wed like to know more about your comment please dm us in order to assist you regarding this matter ac\n",
      "Intent: Account Management\n",
      "\n",
      "  1.  hey allison could you send us a dm with your accounts email address well take a look backstage fr \n",
      "\n",
      "  2.  hey there can you please dm us the phone number associated with your account so we can look into your background check \n",
      "\n",
      "  3.  hey there aaron sorry for the delay can you please provide me with your gt console and cod email and also can you please enter this web page and link your account to the one on your console jr\n",
      "Intent: Billing\n",
      "\n",
      "  1.  my cable bill along is add fubo to that too \n",
      "\n",
      "  2.  wasnt satisfied with my order it came fully incorrect and i only got a partial refund \n",
      "\n",
      "  3.  could you dm me the email address you sent it from or the reference number on the confirmation of receipt email ill then take a copy and speak to the refund team lewis\n",
      "Intent: Technical Support\n",
      "\n",
      "  1.  we established call to you but same was disconnected from other side kindly get back to us for any further assistance\n",
      "\n",
      "  2.  we would like to help you and look into this issue for you however we will need for you to dm us with your email and more information about the trip we look forward to hearing from you\n",
      "\n",
      "  3.  we apologizekindly provide your number device type exact location and error response for a quick check thank you ap\n",
      "Intent: Praise/Thank You\n",
      "\n",
      "  1.  hi jo thanks for clearing that up we just wanted to cover all the bases in case you did want to make a staff complaint as for the plastic i do understand your concerns as avoiding it can make shopping a lot less convenient \n",
      "\n",
      "  2.  what an awesome end to a lovely sunday strictly blue planet amp a lovely glass of costieres de nines red wine aldiwineclub \n",
      "\n",
      "  3.  thanks for your patience km\n",
      "Intent: Complaint\n",
      "\n",
      "  1.  i switch to sprint because i would always get bad g let\n",
      "\n",
      "  2. verizon customer service is the worst\n",
      "\n",
      "  3.  from what ive heard from others tesco is the worst but the closest chain store still bs they wouldnt negotiate or be reasonable\n"
     ]
    }
   ],
   "source": [
    "# Peep the examples by intent\n",
    "for label in df['intent'].unique():\n",
    "    print(f\"Intent: {label}\")\n",
    "    sample = df[df['intent'] == label][['cleaned_text']].dropna().sample(3, random_state=1)\n",
    "    for i, row in enumerate(sample.itertuples(index=False), 1):\n",
    "        print(f\"\\n  {i}. {row.cleaned_text}\")"
   ]
  },
  {
   "cell_type": "markdown",
   "id": "519c9e3e",
   "metadata": {},
   "source": [
    "# Additional Features"
   ]
  },
  {
   "cell_type": "code",
   "execution_count": null,
   "id": "3314644a",
   "metadata": {},
   "outputs": [
    {
     "name": "stdout",
     "output_type": "stream",
     "text": [
      "                                           cleaned_text  tweet_length\n",
      "4979                     i also reported it to and couk          31.0\n",
      "2157   dattendre que vous receviez les documents pui...          89.0\n",
      "4393   ever since i updated my phone it sucks batter...         102.0\n",
      "5114                          we hope youve enjoyed it           26.0\n",
      "7087  this update keep pissing me off get it togethe...          54.0\n",
      "571    if you go to settings gt general gt about gt ...          87.0\n",
      "6785   hey there can you send us a dm with the phone...         131.0\n",
      "3249   permisi saya kmrn ingin berlangganan premium ...         126.0\n",
      "1254   actually they didnt im not at all happy with ...         105.0\n",
      "7510   gotcha do you happen to notice this issue whe...          88.0\n"
     ]
    }
   ],
   "source": []
  }
 ],
 "metadata": {
  "kernelspec": {
   "display_name": "Python 3",
   "language": "python",
   "name": "python3"
  },
  "language_info": {
   "codemirror_mode": {
    "name": "ipython",
    "version": 3
   },
   "file_extension": ".py",
   "mimetype": "text/x-python",
   "name": "python",
   "nbconvert_exporter": "python",
   "pygments_lexer": "ipython3",
   "version": "3.12.6"
  }
 },
 "nbformat": 4,
 "nbformat_minor": 5
}
