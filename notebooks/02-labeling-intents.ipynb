{
 "cells": [
  {
   "cell_type": "markdown",
   "id": "2d70ce92",
   "metadata": {},
   "source": [
    "# 02 - Labeling Intent\n",
    "\n",
    "This notebook is where we create our **Golden Dataset** — a high-quality, manually labeled sample of customer tweets, annotated by intent.\n",
    "\n",
    "---\n",
    "\n",
    "### Intent Categories\n",
    "\n",
    "| Intent Label        | Description                                      |\n",
    "|---------------------|------------------------------------------------|\n",
    "| `cancel_service`    | Customer wants to cancel account or switch plan|\n",
    "| `billing_issue`     | Complaints or questions about billing           |\n",
    "| `technical_issue`   | Problems with device, network, or service       |\n",
    "| `account_help`      | Issues with account management or login         |\n",
    "| `upgrade_request`   | Requests to upgrade device or plan               |\n",
    "| `general_question`  | General questions or inquiries                    |\n",
    "| `positive_feedback` | Praise or compliments                             |\n",
    "| `complaint`         | Negative feedback not related to billing or tech|\n",
    "| `other`             | Anything else or unclear                          |"
   ]
  },
  {
   "cell_type": "markdown",
   "id": "ec2c93f5",
   "metadata": {},
   "source": [
    "# Labeling and Logic of Categorization"
   ]
  },
  {
   "cell_type": "code",
   "execution_count": 4,
   "id": "1ecc7d2e",
   "metadata": {},
   "outputs": [],
   "source": [
    "import pandas as pd\n",
    "\n",
    "# Loads Data from Cleaned CSV\n",
    "df = pd.read_csv(\"../data/processed/cleaned_tweets.csv\")\n",
    "\n",
    "# Sample 250 rows to label\n",
    "golden_df = df.sample(250, random_state=42).copy()\n",
    "\n",
    "# Creates Categories to put into column later\n",
    "intent_categories = [\n",
    "    \"Billing\",\n",
    "    \"Technical Support\",\n",
    "    \"Account Management\",\n",
    "    \"Complaint\",\n",
    "    \"Praise/Thank You\",\n",
    "    \"Other\"\n",
    "]\n",
    "\n",
    "keywords = {\n",
    "    \"Billing\": [\"bill\", \"charge\", \"payment\", \"refund\"],\n",
    "    \"Technical Support\": [\"error\", \"issue\", \"problem\", \"disconnect\", \"slow\"],\n",
    "    \"Account Management\": [\"password\", \"login\", \"account\", \"reset\"],\n",
    "    \"Complaint\": [\"bad\", \"terrible\", \"worst\", \"disappointed\", \"angry\"],\n",
    "    \"Praise/Thank You\": [\"thank\", \"great\", \"love\", \"awesome\", \"appreciate\"]\n",
    "}\n",
    "\n",
    "def assign_intent(text):\n",
    "    if not isinstance(text, str):\n",
    "        return \"Other\"\n",
    "    \n",
    "    for intent, kws in keywords.items():\n",
    "        for kw in kws:\n",
    "            if kw in text:\n",
    "                return intent\n",
    "    return \"Other\""
   ]
  },
  {
   "cell_type": "markdown",
   "id": "dae5ffa4",
   "metadata": {},
   "source": [
    "# Apply Categorization Function to Datarframe and Check First 10 Entries"
   ]
  },
  {
   "cell_type": "code",
   "execution_count": 13,
   "id": "1510442e",
   "metadata": {},
   "outputs": [
    {
     "name": "stdout",
     "output_type": "stream",
     "text": [
      "                                           cleaned_text             intent\n",
      "6845   sorry to hear that send us a dm with your ema...              Other\n",
      "875    hi dr standford happy to have you with us tod...              Other\n",
      "3136      fam i need contact details for your sa office              Other\n",
      "278                 sorry ill never cheat on you again               Other\n",
      "1201   ive spent hours today trying to get this stra...              Other\n",
      "2867                                           agent no              Other\n",
      "330   just now i checked uber w promo applied was ce...              Other\n",
      "7489   from waterloo packed even guard frustrated ti...   Praise/Thank You\n",
      "9650   not impressed with your app i deferred having...              Other\n",
      "4777   heres what you can do to work around the issu...  Technical Support\n"
     ]
    }
   ],
   "source": [
    "df['intent'] = df['cleaned_text'].apply(assign_intent)\n",
    "print(df[['cleaned_text', 'intent']].sample(10))"
   ]
  }
 ],
 "metadata": {
  "kernelspec": {
   "display_name": "Python 3",
   "language": "python",
   "name": "python3"
  },
  "language_info": {
   "codemirror_mode": {
    "name": "ipython",
    "version": 3
   },
   "file_extension": ".py",
   "mimetype": "text/x-python",
   "name": "python",
   "nbconvert_exporter": "python",
   "pygments_lexer": "ipython3",
   "version": "3.12.6"
  }
 },
 "nbformat": 4,
 "nbformat_minor": 5
}
