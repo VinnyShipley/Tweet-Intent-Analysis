{
 "cells": [
  {
   "cell_type": "markdown",
   "id": "2d70ce92",
   "metadata": {},
   "source": [
    "# 02 - Labeling Intent\n",
    "\n",
    "---\n",
    "\n",
    "### Intent Categories\n",
    "\n",
    "| Intent Label        | Description                                      |\n",
    "|---------------------|------------------------------------------------|\n",
    "| `cancel_service`    | Customer wants to cancel account or switch plan|\n",
    "| `billing_issue`     | Complaints or questions about billing           |\n",
    "| `technical_issue`   | Problems with device, network, or service       |\n",
    "| `account_help`      | Issues with account management or login         |\n",
    "| `upgrade_request`   | Requests to upgrade device or plan               |\n",
    "| `general_question`  | General questions or inquiries                    |\n",
    "| `positive_feedback` | Praise or compliments                             |\n",
    "| `complaint`         | Negative feedback not related to billing or tech|\n",
    "| `other`             | Anything else or unclear                          |"
   ]
  },
  {
   "cell_type": "markdown",
   "id": "ec2c93f5",
   "metadata": {},
   "source": [
    "# Labeling and Logic of Categorization"
   ]
  },
  {
   "cell_type": "code",
   "execution_count": 1,
   "id": "1ecc7d2e",
   "metadata": {},
   "outputs": [],
   "source": [
    "import pandas as pd\n",
    "import sys\n",
    "import os\n",
    "\n",
    "\n",
    "# Fixing routing issue\n",
    "project_root = os.path.abspath('..')\n",
    "sys.path.append(project_root)\n",
    "\n",
    "from scripts.preprocess import assign_intent\n",
    "\n",
    "# Loads Data from Cleaned CSV\n",
    "df = pd.read_csv(\"../data/processed/cleaned_tweets.csv\")\n",
    "\n",
    "# Sample 250 rows to label\n",
    "golden_df = df.sample(250, random_state=42).copy()\n",
    "\n",
    "# Creates Categories to put into column later\n",
    "intent_categories = [\n",
    "    \"Billing\",\n",
    "    \"Technical Support\",\n",
    "    \"Account Management\",\n",
    "    \"Complaint\",\n",
    "    \"Praise/Thank You\",\n",
    "    \"Other\"\n",
    "]\n",
    "\n",
    "keywords = {\n",
    "    \"Billing\": [\"bill\", \"charge\", \"payment\", \"refund\"],\n",
    "    \"Technical Support\": [\"error\", \"issue\", \"problem\", \"disconnect\", \"slow\"],\n",
    "    \"Account Management\": [\"password\", \"login\", \"account\", \"reset\"],\n",
    "    \"Complaint\": [\"bad\", \"terrible\", \"worst\", \"disappointed\", \"angry\"],\n",
    "    \"Praise/Thank You\": [\"thank\", \"great\", \"love\", \"awesome\", \"appreciate\"]\n",
    "}"
   ]
  },
  {
   "cell_type": "markdown",
   "id": "dae5ffa4",
   "metadata": {},
   "source": [
    "# Apply Categorization Function to Datarframe and Write to CSV file"
   ]
  },
  {
   "cell_type": "code",
   "execution_count": 2,
   "id": "1510442e",
   "metadata": {},
   "outputs": [
    {
     "name": "stdout",
     "output_type": "stream",
     "text": [
      "                                           cleaned_text             intent\n",
      "7132   shocked to see a cashier giving out worth of ...              Other\n",
      "424    i have gb left on my pc amp i have great inte...   Praise/Thank You\n",
      "9024   thats a great question youre correct until th...   Praise/Thank You\n",
      "552    hi matthew thank you for loving us despite ou...   Praise/Thank You\n",
      "4004                                  done thanks a mil   Praise/Thank You\n",
      "6154   i dont im afraid they dont have a customer se...              Other\n",
      "654    there is one left by the time i get a refund ...            Billing\n",
      "4486   we have forwarded your issue to our concern t...  Technical Support\n",
      "2343   hi toshiaki we had linked the booking to your...   Praise/Thank You\n",
      "8349   awesome were glad its all sorted out please s...   Praise/Thank You\n",
      "                                           cleaned_text  sentiment_score\n",
      "7458                 hey im waitin on dm please help me         0.000000\n",
      "8976   at least some people understand how good this...         0.200000\n",
      "9730   hi we dont currently have any info regarding ...        -0.155556\n",
      "7786   sporadic issues here a lot of sudden drops ev...         0.000000\n",
      "7318                dose the disc come with season pass         0.000000\n",
      "3370   sorry to hear of the wait times wed still lov...         0.208333\n",
      "290    and just heard ur staff on westbury platform ...        -0.071429\n",
      "4470   quand un colis revient chez vous suite lincom...         0.000000\n",
      "8978          i have been having issues with my account         0.000000\n",
      "5031   i felt terrible for the couple elderly people...        -0.450000\n",
      "Golden dataset saved\n"
     ]
    }
   ],
   "source": [
    "df['intent'] = df['cleaned_text'].apply(lambda text: assign_intent(text, keywords))\n",
    "print(df[['cleaned_text', 'intent']].sample(10))\n",
    "\n",
    "df['tweet_length'] = df['cleaned_text'].str.len()\n",
    "\n",
    "#print(df[['cleaned_text', 'tweet_length']].sample(10))\n",
    "print(df[['cleaned_text', 'sentiment_score']].sample(10))\n",
    "\n",
    "# Writes golden dataset to csv file\n",
    "df.to_csv(\"../data/processed/golden_intent_labeled.csv\", index=False)\n",
    "print(\"Golden dataset saved\")"
   ]
  },
  {
   "cell_type": "markdown",
   "id": "a18a8eef",
   "metadata": {},
   "source": [
    "# Quick Evaluation"
   ]
  },
  {
   "cell_type": "code",
   "execution_count": 3,
   "id": "86291caa",
   "metadata": {},
   "outputs": [
    {
     "name": "stdout",
     "output_type": "stream",
     "text": [
      "Intent: Other\n",
      "\n",
      "  1.  trying to buy this online but when you click on it the price jumps up why \n",
      "\n",
      "  2.  sent to you just now\n",
      "\n",
      "  3.  you need a fraud reporting email address on your website i should not have to wait on hold for mins to get an email address to report a spoofing email\n",
      "Intent: Technical Support\n",
      "\n",
      "  1.  im still having issue with the headquarters and being the only one in it and unable to connect with friends to play as a party\n",
      "\n",
      "  2.  i was on hold for minutes and you disconnected me about ready to cancel my flight\n",
      "\n",
      "  3.  we are here to help dm us the details of your issue and we can take a look \n",
      "Intent: Praise/Thank You\n",
      "\n",
      "  1.  whats the source of the mp files is it a screen recording thanks rk\n",
      "\n",
      "  2.  hello wed like to hear from you help us improve our support by clicking this link thank you\n",
      "\n",
      "  3.  thanks for giving us a visit today enjoy your cocktail and your flight tbw\n",
      "Intent: Account Management\n",
      "\n",
      "  1.  without posting any personal informationaccount details can you elaborate on the situation bd\n",
      "\n",
      "  2.  hey if i applied a first ride promo for my account but never had the chance to use it in budapest is it still on my account im travelling to london and wondering if it will still apply thanks\n",
      "\n",
      "  3.  the miles from my sept flight from lax to lih have never posted to my account can you check on this thanks\n",
      "Intent: Billing\n",
      "\n",
      "  1.  sorry for the late reply the journeys i can see are you going through zone which is adding the additional charge anytime you travel through a zone not included on the travel the charge will be deducted from your pay as you go balance\n",
      "\n",
      "  2.  got it i would recommend contacting your bank about the total charge please let us know the outcome of the call fd\n",
      "\n",
      "  3.  am trying to pay for getting the message below did they change paybill number \n",
      "Intent: Complaint\n",
      "\n",
      "  1. delay delivery request a pure lie still not recd worst order from amazon in yrs amp i m prime cust support clueless \n",
      "\n",
      "  2. good flight to mn from md on some turbulence but not too bad in the second pic \n",
      "\n",
      "  3.  is the worst if you have a chance dont book with them terrible experience all around\n"
     ]
    }
   ],
   "source": [
    "# Peep the examples by intent\n",
    "for label in df['intent'].unique():\n",
    "    print(f\"Intent: {label}\")\n",
    "    sample = df[df['intent'] == label][['cleaned_text']].dropna().sample(3, random_state=1)\n",
    "    for i, row in enumerate(sample.itertuples(index=False), 1):\n",
    "        print(f\"\\n  {i}. {row.cleaned_text}\")"
   ]
  },
  {
   "cell_type": "markdown",
   "id": "519c9e3e",
   "metadata": {},
   "source": [
    "# Additional Features"
   ]
  },
  {
   "cell_type": "code",
   "execution_count": null,
   "id": "3314644a",
   "metadata": {},
   "outputs": [],
   "source": []
  }
 ],
 "metadata": {
  "kernelspec": {
   "display_name": "Python 3",
   "language": "python",
   "name": "python3"
  },
  "language_info": {
   "codemirror_mode": {
    "name": "ipython",
    "version": 3
   },
   "file_extension": ".py",
   "mimetype": "text/x-python",
   "name": "python",
   "nbconvert_exporter": "python",
   "pygments_lexer": "ipython3",
   "version": "3.12.6"
  }
 },
 "nbformat": 4,
 "nbformat_minor": 5
}
