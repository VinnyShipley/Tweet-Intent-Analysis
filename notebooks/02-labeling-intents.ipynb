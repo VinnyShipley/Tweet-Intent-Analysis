{
 "cells": [
  {
   "cell_type": "markdown",
   "id": "2d70ce92",
   "metadata": {},
   "source": [
    "# 02 - Labeling Intent\n",
    "\n",
    "This notebook is where we create our **Golden Dataset** — a high-quality, manually labeled sample of customer tweets, annotated by intent.\n",
    "\n",
    "---\n",
    "\n",
    "### Intent Categories\n",
    "\n",
    "| Intent Label        | Description                                      |\n",
    "|---------------------|------------------------------------------------|\n",
    "| `cancel_service`    | Customer wants to cancel account or switch plan|\n",
    "| `billing_issue`     | Complaints or questions about billing           |\n",
    "| `technical_issue`   | Problems with device, network, or service       |\n",
    "| `account_help`      | Issues with account management or login         |\n",
    "| `upgrade_request`   | Requests to upgrade device or plan               |\n",
    "| `general_question`  | General questions or inquiries                    |\n",
    "| `positive_feedback` | Praise or compliments                             |\n",
    "| `complaint`         | Negative feedback not related to billing or tech|\n",
    "| `other`             | Anything else or unclear                          |"
   ]
  },
  {
   "cell_type": "code",
   "execution_count": null,
   "id": "1ecc7d2e",
   "metadata": {
    "vscode": {
     "languageId": "plaintext"
    }
   },
   "outputs": [],
   "source": [
    "import pandas as pd\n",
    "\n",
    "# Loads Cleaned Tweets data\n",
    "df = pd.read_csz(\"data/processed/cleaned_tweets.)"
   ]
  }
 ],
 "metadata": {
  "language_info": {
   "name": "python"
  }
 },
 "nbformat": 4,
 "nbformat_minor": 5
}
