{
 "cells": [
  {
   "cell_type": "markdown",
   "id": "2d70ce92",
   "metadata": {},
   "source": [
    "# 02 - Labeling Intent\n",
    "\n",
    "---\n",
    "\n",
    "### Intent Categories\n",
    "\n",
    "| Intent Label        | Description                                      |\n",
    "|---------------------|------------------------------------------------|\n",
    "| `cancel_service`    | Customer wants to cancel account or switch plan|\n",
    "| `billing_issue`     | Complaints or questions about billing           |\n",
    "| `technical_issue`   | Problems with device, network, or service       |\n",
    "| `account_help`      | Issues with account management or login         |\n",
    "| `upgrade_request`   | Requests to upgrade device or plan               |\n",
    "| `general_question`  | General questions or inquiries                    |\n",
    "| `positive_feedback` | Praise or compliments                             |\n",
    "| `complaint`         | Negative feedback not related to billing or tech|\n",
    "| `other`             | Anything else or unclear                          |"
   ]
  },
  {
   "cell_type": "markdown",
   "id": "ec2c93f5",
   "metadata": {},
   "source": [
    "# Labeling and Logic of Categorization"
   ]
  },
  {
   "cell_type": "code",
   "execution_count": 5,
   "id": "1ecc7d2e",
   "metadata": {},
   "outputs": [],
   "source": [
    "import pandas as pd\n",
    "import sys\n",
    "import os\n",
    "\n",
    "\n",
    "# Fixing routing issue\n",
    "project_root = os.path.abspath('..')\n",
    "sys.path.append(project_root)\n",
    "\n",
    "from scripts.preprocess import assign_intent\n",
    "\n",
    "# Loads data from cleaned CSV\n",
    "df = pd.read_csv(\"../data/processed/cleaned_tweets.csv\")\n",
    "\n",
    "# Sample 250 rows to label\n",
    "golden_df = df.sample(250, random_state=42).copy()\n",
    "\n",
    "# Creates categories to put into column later\n",
    "intent_categories = [\n",
    "    \"Billing\",\n",
    "    \"Technical Support\",\n",
    "    \"Account Management\",\n",
    "    \"Complaint\",\n",
    "    \"Praise/Thank You\",\n",
    "    \"Other\"\n",
    "]\n",
    "\n",
    "# Establishes word list that will classify the tweet by intent\n",
    "keywords = {\n",
    "    \"Billing\": [\"bill\", \"charge\", \"payment\", \"refund\"],\n",
    "    \"Technical Support\": [\"error\", \"issue\", \"problem\", \"disconnect\", \"slow\"],\n",
    "    \"Account Management\": [\"password\", \"login\", \"account\", \"reset\"],\n",
    "    \"Complaint\": [\"bad\", \"terrible\", \"worst\", \"disappointed\", \"angry\"],\n",
    "    \"Praise/Thank You\": [\"thank\", \"great\", \"love\", \"awesome\", \"appreciate\"]\n",
    "}"
   ]
  },
  {
   "cell_type": "markdown",
   "id": "dae5ffa4",
   "metadata": {},
   "source": [
    "# Apply Categorization Function to Datarframe and Write to CSV file"
   ]
  },
  {
   "cell_type": "code",
   "execution_count": 6,
   "id": "1510442e",
   "metadata": {},
   "outputs": [
    {
     "name": "stdout",
     "output_type": "stream",
     "text": [
      "Golden dataset saved\n"
     ]
    }
   ],
   "source": [
    "# Adds intent column to the data frame\n",
    "df['intent'] = df['cleaned_text'].apply(lambda text: assign_intent(text, keywords))\n",
    "\n",
    "# Adds tweet length column to the data frame\n",
    "df['tweet_length'] = df['cleaned_text'].str.len()\n",
    "\n",
    "# Writes golden dataset to csv file\n",
    "df.to_csv(\"../data/processed/golden_intent_labeled.csv\", index=False)\n",
    "print(\"Golden dataset saved\")"
   ]
  }
 ],
 "metadata": {
  "kernelspec": {
   "display_name": "Python 3",
   "language": "python",
   "name": "python3"
  },
  "language_info": {
   "codemirror_mode": {
    "name": "ipython",
    "version": 3
   },
   "file_extension": ".py",
   "mimetype": "text/x-python",
   "name": "python",
   "nbconvert_exporter": "python",
   "pygments_lexer": "ipython3",
   "version": "3.12.6"
  }
 },
 "nbformat": 4,
 "nbformat_minor": 5
}
