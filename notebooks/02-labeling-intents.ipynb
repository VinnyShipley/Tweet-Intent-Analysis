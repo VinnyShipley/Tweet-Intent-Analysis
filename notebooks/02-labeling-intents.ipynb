{
 "cells": [
  {
   "cell_type": "markdown",
   "id": "2d70ce92",
   "metadata": {},
   "source": [
    "# 02 - Labeling Intent\n",
    "\n",
    "This notebook is where we create our **Golden Dataset** — a high-quality, manually labeled sample of customer tweets, annotated by intent.\n",
    "\n",
    "---\n",
    "\n",
    "### Intent Categories\n",
    "\n",
    "| Intent Label        | Description                                      |\n",
    "|---------------------|------------------------------------------------|\n",
    "| `cancel_service`    | Customer wants to cancel account or switch plan|\n",
    "| `billing_issue`     | Complaints or questions about billing           |\n",
    "| `technical_issue`   | Problems with device, network, or service       |\n",
    "| `account_help`      | Issues with account management or login         |\n",
    "| `upgrade_request`   | Requests to upgrade device or plan               |\n",
    "| `general_question`  | General questions or inquiries                    |\n",
    "| `positive_feedback` | Praise or compliments                             |\n",
    "| `complaint`         | Negative feedback not related to billing or tech|\n",
    "| `other`             | Anything else or unclear                          |"
   ]
  },
  {
   "cell_type": "markdown",
   "id": "ec2c93f5",
   "metadata": {},
   "source": [
    "# Labeling and Logic of Categorization"
   ]
  },
  {
   "cell_type": "code",
   "execution_count": 4,
   "id": "1ecc7d2e",
   "metadata": {},
   "outputs": [],
   "source": [
    "import pandas as pd\n",
    "\n",
    "# Loads Data from Cleaned CSV\n",
    "df = pd.read_csv(\"../data/processed/cleaned_tweets.csv\")\n",
    "\n",
    "# Sample 250 rows to label\n",
    "golden_df = df.sample(250, random_state=42).copy()\n",
    "\n",
    "# Creates Categories to put into column later\n",
    "intent_categories = [\n",
    "    \"Billing\",\n",
    "    \"Technical Support\",\n",
    "    \"Account Management\",\n",
    "    \"Complaint\",\n",
    "    \"Praise/Thank You\",\n",
    "    \"Other\"\n",
    "]\n",
    "\n",
    "keywords = {\n",
    "    \"Billing\": [\"bill\", \"charge\", \"payment\", \"refund\"],\n",
    "    \"Technical Support\": [\"error\", \"issue\", \"problem\", \"disconnect\", \"slow\"],\n",
    "    \"Account Management\": [\"password\", \"login\", \"account\", \"reset\"],\n",
    "    \"Complaint\": [\"bad\", \"terrible\", \"worst\", \"disappointed\", \"angry\"],\n",
    "    \"Praise/Thank You\": [\"thank\", \"great\", \"love\", \"awesome\", \"appreciate\"]\n",
    "}\n",
    "\n",
    "def assign_intent(text):\n",
    "    if not isinstance(text, str):\n",
    "        return \"Other\"\n",
    "    \n",
    "    for intent, kws in keywords.items():\n",
    "        for kw in kws:\n",
    "            if kw in text:\n",
    "                return intent\n",
    "    return \"Other\""
   ]
  },
  {
   "cell_type": "markdown",
   "id": "dae5ffa4",
   "metadata": {},
   "source": [
    "# Apply Categorization Function to Datarframe and Write to CSV file"
   ]
  },
  {
   "cell_type": "code",
   "execution_count": 15,
   "id": "1510442e",
   "metadata": {},
   "outputs": [
    {
     "name": "stdout",
     "output_type": "stream",
     "text": [
      "                                           cleaned_text             intent\n",
      "5148   thanks to and for swapping out damaged item f...   Praise/Thank You\n",
      "6929   hi there please write in your suggestion to a...              Other\n",
      "347    flt has been sitting ft from gate for min wha...  Technical Support\n",
      "8935   im always organised this is late for me this ...   Praise/Thank You\n",
      "1134   hi i need an address to your residential acco...            Billing\n",
      "8926   if you follow and dm us we can take a look fo...              Other\n",
      "5827   hello there we are excited that your are thin...              Other\n",
      "6668   its not an exact match but the nearest possib...              Other\n",
      "9701   how adorable kevin looks very cozy there kevi...              Other\n",
      "5267  ok i need yall again can yall renew my month f...              Other\n",
      "Golden dataset saved\n"
     ]
    }
   ],
   "source": [
    "df['intent'] = df['cleaned_text'].apply(assign_intent)\n",
    "print(df[['cleaned_text', 'intent']].sample(10))\n",
    "\n",
    "# Writes golden dataset to csv file\n",
    "df.to_csv(\"../data/processed/golden_intent_labeled.csv\", index=False)\n",
    "print(\"Golden dataset saved\")"
   ]
  },
  {
   "cell_type": "markdown",
   "id": "a18a8eef",
   "metadata": {},
   "source": [
    "# Quick Evaluation"
   ]
  },
  {
   "cell_type": "code",
   "execution_count": 23,
   "id": "86291caa",
   "metadata": {},
   "outputs": [
    {
     "name": "stdout",
     "output_type": "stream",
     "text": [
      "Intent: Account Management\n",
      "\n",
      "  1.  hey that doesnt sound good did the app crash at any point during the minutes that can cause the adfree time to reset nq\n",
      "\n",
      "  2.  no you are not i log into my account this morning and its still incorrect\n",
      "\n",
      "  3.  hey there can you please dm us the phone number associated with your account \n",
      "Intent: Technical Support\n",
      "\n",
      "  1.  that didnt help on either browser i click one song to play but i see dozens from the playlist scroll by then i get that error message\n",
      "\n",
      "  2.  is there a way to find out what company delivers your packages we have a problem with one driver and it needs sorting\n",
      "\n",
      "  3.  i did the tmobile tuesday today for the free movie from vudu but it doesnt work i get the following error \n",
      "Intent: Other\n",
      "\n",
      "  1.  i did but im not getting any answers\n",
      "\n",
      "  2. are stores open tomorrow\n",
      "\n",
      "  3.  your own courier is shite attempted deliveries that were never attempted as we were home all day yesterday epicfail lazies\n",
      "Intent: Praise/Thank You\n",
      "\n",
      "  1.  okay thanks for the update david was the rep you spoke to able to offer any info or options on the second order sm\n",
      "\n",
      "  2.  thank you \n",
      "\n",
      "  3.  oh wow so sorry about this please dm me the barcode store amp your more card number so we can sort this thanks chloe\n",
      "Intent: Billing\n",
      "\n",
      "  1.  unless you can promise to actually help vs empty promises and false statements about refunds then im not wasting my time\n",
      "\n",
      "  2.  no update the payment due date is already here\n",
      "\n",
      "  3.  i didnt know that i thought it included pickup im too far from a dropoff what can i do can i cancel my order and get a refund pls\n",
      "Intent: Complaint\n",
      "\n",
      "  1. wow terrible customer service with this evening your staff are shocking ruined our whole evening\n",
      "\n",
      "  2.  old tom bombadil is a merry fellow bright blue his jacket is and his boots are yellow none has ever caught him yet for tom he is the master his songs are stronger songs and his feet are faster even faster on british airways so it would seem thanks for the feedback kim\n",
      "\n",
      "  3.  what a joke some stores are selling black friday tvs early customer service refused to honor it for everyone so disappointed in the way everything was handled called was told it was in stock drag my kids in was refused the purchase than wasted an hour with cs \n"
     ]
    }
   ],
   "source": [
    "# Peep the examples by intent\n",
    "for label in df['intent'].unique():\n",
    "    print(f\"Intent: {label}\")\n",
    "    sample = df[df['intent'] == label][['cleaned_text']].dropna().sample(3, random_state=1)\n",
    "    for i, row in enumerate(sample.itertuples(index=False), 1):\n",
    "        print(f\"\\n  {i}. {row.cleaned_text}\")"
   ]
  }
 ],
 "metadata": {
  "kernelspec": {
   "display_name": "Python 3",
   "language": "python",
   "name": "python3"
  },
  "language_info": {
   "codemirror_mode": {
    "name": "ipython",
    "version": 3
   },
   "file_extension": ".py",
   "mimetype": "text/x-python",
   "name": "python",
   "nbconvert_exporter": "python",
   "pygments_lexer": "ipython3",
   "version": "3.12.6"
  }
 },
 "nbformat": 4,
 "nbformat_minor": 5
}
