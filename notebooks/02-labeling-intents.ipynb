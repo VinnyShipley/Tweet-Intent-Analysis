{
 "cells": [
  {
   "cell_type": "markdown",
   "id": "2d70ce92",
   "metadata": {},
   "source": [
    "# 02 - Labeling Intent\n",
    "\n",
    "---\n",
    "\n",
    "### Intent Categories\n",
    "\n",
    "| Intent Label        | Description                                      |\n",
    "|---------------------|------------------------------------------------|\n",
    "| `cancel_service`    | Customer wants to cancel account or switch plan|\n",
    "| `billing_issue`     | Complaints or questions about billing           |\n",
    "| `technical_issue`   | Problems with device, network, or service       |\n",
    "| `account_help`      | Issues with account management or login         |\n",
    "| `upgrade_request`   | Requests to upgrade device or plan               |\n",
    "| `general_question`  | General questions or inquiries                    |\n",
    "| `positive_feedback` | Praise or compliments                             |\n",
    "| `complaint`         | Negative feedback not related to billing or tech|\n",
    "| `other`             | Anything else or unclear                          |"
   ]
  },
  {
   "cell_type": "markdown",
   "id": "ec2c93f5",
   "metadata": {},
   "source": [
    "# Labeling and Logic of Categorization"
   ]
  },
  {
   "cell_type": "code",
   "execution_count": 1,
   "id": "1ecc7d2e",
   "metadata": {},
   "outputs": [],
   "source": [
    "import pandas as pd\n",
    "import sys\n",
    "import os\n",
    "\n",
    "\n",
    "# Fixing routing issue\n",
    "project_root = os.path.abspath('..')\n",
    "sys.path.append(project_root)\n",
    "\n",
    "from scripts.preprocess import assign_intent\n",
    "\n",
    "# Loads Data from Cleaned CSV\n",
    "df = pd.read_csv(\"../data/processed/cleaned_tweets.csv\")\n",
    "\n",
    "# Sample 250 rows to label\n",
    "golden_df = df.sample(250, random_state=42).copy()\n",
    "\n",
    "# Creates Categories to put into column later\n",
    "intent_categories = [\n",
    "    \"Billing\",\n",
    "    \"Technical Support\",\n",
    "    \"Account Management\",\n",
    "    \"Complaint\",\n",
    "    \"Praise/Thank You\",\n",
    "    \"Other\"\n",
    "]\n",
    "\n",
    "keywords = {\n",
    "    \"Billing\": [\"bill\", \"charge\", \"payment\", \"refund\"],\n",
    "    \"Technical Support\": [\"error\", \"issue\", \"problem\", \"disconnect\", \"slow\"],\n",
    "    \"Account Management\": [\"password\", \"login\", \"account\", \"reset\"],\n",
    "    \"Complaint\": [\"bad\", \"terrible\", \"worst\", \"disappointed\", \"angry\"],\n",
    "    \"Praise/Thank You\": [\"thank\", \"great\", \"love\", \"awesome\", \"appreciate\"]\n",
    "}"
   ]
  },
  {
   "cell_type": "markdown",
   "id": "dae5ffa4",
   "metadata": {},
   "source": [
    "# Apply Categorization Function to Datarframe and Write to CSV file"
   ]
  },
  {
   "cell_type": "code",
   "execution_count": 2,
   "id": "1510442e",
   "metadata": {},
   "outputs": [
    {
     "name": "stdout",
     "output_type": "stream",
     "text": [
      "                                           cleaned_text              intent\n",
      "6913   i was flying from gatwick then onward travel ...               Other\n",
      "9145                           where is everything made               Other\n",
      "5425   yall need to stop charging me this account ma...  Account Management\n",
      "510    described as easy peeler though these small b...               Other\n",
      "5430  la firetv di amazon sarebbe davvero da prender...               Other\n",
      "2801   well be happy to assist you can you tell us a...               Other\n",
      "2273   hi its louise bugeja holdcombe road greenmoun...               Other\n",
      "9753   schedule changes are tough calls please know ...               Other\n",
      "2851   hello please be informed that no swap has bee...               Other\n",
      "2908  a bit misleading dont you think apparently not...               Other\n",
      "                                           cleaned_text  sentiment_score\n",
      "5852   thanks beth sent response to initial response...        -0.162500\n",
      "7943  for the second time in a week has totally hose...         0.020833\n",
      "7413   weve got your back also maybe bookmark too ro...         0.000000\n",
      "8234   i updated my app and now theres no place for ...         0.000000\n",
      "3248   can you confirm ex pad connect service is now...         0.136364\n",
      "6206            send us a dm well be happy to help out          0.800000\n",
      "6149                               bringbackbritishrail         0.000000\n",
      "4812        why tf is my phone being so slow right now         -0.007143\n",
      "2514   cold you tel us what the actual isue is with ...        -0.300000\n",
      "5904   please report this to our critical response l...         0.000000\n",
      "Golden dataset saved\n"
     ]
    }
   ],
   "source": [
    "df['intent'] = df['cleaned_text'].apply(lambda text: assign_intent(text, keywords))\n",
    "print(df[['cleaned_text', 'intent']].sample(10))\n",
    "\n",
    "df['tweet_length'] = df['cleaned_text'].str.len()\n",
    "\n",
    "#print(df[['cleaned_text', 'tweet_length']].sample(10))\n",
    "print(df[['cleaned_text', 'sentiment_score']].sample(10))\n",
    "\n",
    "# Writes golden dataset to csv file\n",
    "df.to_csv(\"../data/processed/golden_intent_labeled.csv\", index=False)\n",
    "print(\"Golden dataset saved\")"
   ]
  },
  {
   "cell_type": "markdown",
   "id": "a18a8eef",
   "metadata": {},
   "source": [
    "# Quick Evaluation"
   ]
  },
  {
   "cell_type": "code",
   "execution_count": 3,
   "id": "86291caa",
   "metadata": {},
   "outputs": [
    {
     "name": "stdout",
     "output_type": "stream",
     "text": [
      "Intent: Other\n",
      "\n",
      "  1.  its a yes or no question\n",
      "\n",
      "  2.  ive restarted my phone several times still doesnt work\n",
      "\n",
      "  3.  why does my personal station keep playing song i expressly marked dislike \n",
      "Intent: Praise/Thank You\n",
      "\n",
      "  1. the state of my fire emblem warriors special edition thanks unacceptable \n",
      "\n",
      "  2. thanks to and for getting my retrochallenge project parts here a day early \n",
      "\n",
      "  3.  thank you\n",
      "Intent: Complaint\n",
      "\n",
      "  1. dear excited re low fare finder disappointed but no surprise that only search options are from london northsouthdivide\n",
      "\n",
      "  2. dont let fool you they dont they just wasted almost full hours of my time tonight and the cs rep knew she couldnt do what i needed terriblecustomerservice xfinity when can we get \n",
      "\n",
      "  3.  yes you need to contact spectrumbad amp cancel your acct always rated last in svcereliability would love to hear from you for better deals \n",
      "Intent: Account Management\n",
      "\n",
      "  1.  hi deanna i do not have access to your account via twitter please reach out to us here for more information thank you ap\n",
      "\n",
      "  2.  even after a box reset bbc america wont come in as well as a few other channels anything you can do tonight\n",
      "\n",
      "  3.  hey there helps here can you dm us your accounts username and email address well take a look backstage cg \n",
      "Intent: Billing\n",
      "\n",
      "  1.  what item is it harry make sure you return your receipt or the packaging to store on your next visit so we can refund or replace it for you\n",
      "\n",
      "  2.  hi ruth im sorry your salad is out of date id like to feed this back to the store and also get you refunded for me to do this could you dm your full name address email barcode and store its from \n",
      "\n",
      "  3.  can your check my recent booking booking no kiwgj payment already made but i didnt received any confirmation from air asia\n",
      "Intent: Technical Support\n",
      "\n",
      "  1.  it could be a safety issue regarding our manifest showing where the passengers were sitting other than that issue there should not \n",
      "\n",
      "  2.  lets see what we can do to get this resolved sounds like you reset the smc on your mac this is a great and important step for this issue so we want to make sure you followed our recommended steps did you complete the exact steps here \n",
      "\n",
      "  3.  oh my that is a lot longer than you should have to wait when was the last time you contacted us about this issue chey jd\n"
     ]
    }
   ],
   "source": [
    "# Peep the examples by intent\n",
    "for label in df['intent'].unique():\n",
    "    print(f\"Intent: {label}\")\n",
    "    sample = df[df['intent'] == label][['cleaned_text']].dropna().sample(3, random_state=1)\n",
    "    for i, row in enumerate(sample.itertuples(index=False), 1):\n",
    "        print(f\"\\n  {i}. {row.cleaned_text}\")"
   ]
  },
  {
   "cell_type": "markdown",
   "id": "519c9e3e",
   "metadata": {},
   "source": [
    "# Additional Features"
   ]
  },
  {
   "cell_type": "code",
   "execution_count": null,
   "id": "3314644a",
   "metadata": {},
   "outputs": [],
   "source": []
  }
 ],
 "metadata": {
  "kernelspec": {
   "display_name": "Python 3",
   "language": "python",
   "name": "python3"
  },
  "language_info": {
   "codemirror_mode": {
    "name": "ipython",
    "version": 3
   },
   "file_extension": ".py",
   "mimetype": "text/x-python",
   "name": "python",
   "nbconvert_exporter": "python",
   "pygments_lexer": "ipython3",
   "version": "3.12.6"
  }
 },
 "nbformat": 4,
 "nbformat_minor": 5
}
