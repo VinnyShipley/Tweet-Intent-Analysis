{
 "cells": [
  {
   "cell_type": "markdown",
   "id": "2d70ce92",
   "metadata": {},
   "source": [
    "# 02 - Labeling Intent\n",
    "\n",
    "---\n",
    "\n",
    "### Intent Categories\n",
    "\n",
    "| Intent Label        | Description                                      |\n",
    "|---------------------|------------------------------------------------|\n",
    "| `cancel_service`    | Customer wants to cancel account or switch plan|\n",
    "| `billing_issue`     | Complaints or questions about billing           |\n",
    "| `technical_issue`   | Problems with device, network, or service       |\n",
    "| `account_help`      | Issues with account management or login         |\n",
    "| `upgrade_request`   | Requests to upgrade device or plan               |\n",
    "| `general_question`  | General questions or inquiries                    |\n",
    "| `positive_feedback` | Praise or compliments                             |\n",
    "| `complaint`         | Negative feedback not related to billing or tech|\n",
    "| `other`             | Anything else or unclear                          |"
   ]
  },
  {
   "cell_type": "markdown",
   "id": "ec2c93f5",
   "metadata": {},
   "source": [
    "# Labeling and Logic of Categorization"
   ]
  },
  {
   "cell_type": "code",
   "execution_count": 2,
   "id": "1ecc7d2e",
   "metadata": {},
   "outputs": [],
   "source": [
    "import pandas as pd\n",
    "import sys\n",
    "import os\n",
    "\n",
    "\n",
    "# Fixing routing issue\n",
    "project_root = os.path.abspath('..')\n",
    "sys.path.append(project_root)\n",
    "\n",
    "from scripts.preprocess import assign_intent\n",
    "\n",
    "# Loads Data from Cleaned CSV\n",
    "df = pd.read_csv(\"../data/processed/cleaned_tweets.csv\")\n",
    "\n",
    "# Sample 250 rows to label\n",
    "golden_df = df.sample(250, random_state=42).copy()\n",
    "\n",
    "# Creates Categories to put into column later\n",
    "intent_categories = [\n",
    "    \"Billing\",\n",
    "    \"Technical Support\",\n",
    "    \"Account Management\",\n",
    "    \"Complaint\",\n",
    "    \"Praise/Thank You\",\n",
    "    \"Other\"\n",
    "]\n",
    "\n",
    "keywords = {\n",
    "    \"Billing\": [\"bill\", \"charge\", \"payment\", \"refund\"],\n",
    "    \"Technical Support\": [\"error\", \"issue\", \"problem\", \"disconnect\", \"slow\"],\n",
    "    \"Account Management\": [\"password\", \"login\", \"account\", \"reset\"],\n",
    "    \"Complaint\": [\"bad\", \"terrible\", \"worst\", \"disappointed\", \"angry\"],\n",
    "    \"Praise/Thank You\": [\"thank\", \"great\", \"love\", \"awesome\", \"appreciate\"]\n",
    "}"
   ]
  },
  {
   "cell_type": "markdown",
   "id": "dae5ffa4",
   "metadata": {},
   "source": [
    "# Apply Categorization Function to Datarframe and Write to CSV file"
   ]
  },
  {
   "cell_type": "code",
   "execution_count": 5,
   "id": "1510442e",
   "metadata": {},
   "outputs": [
    {
     "name": "stdout",
     "output_type": "stream",
     "text": [
      "                                           cleaned_text              intent\n",
      "7225   set to match the local market competition tabby                Other\n",
      "2194         i need you to add a last name to my ticket               Other\n",
      "8545   i can look into this can you send me the acco...  Account Management\n",
      "3887                             but its not solved yet               Other\n",
      "5426      here to help contact us via so we can connect               Other\n",
      "1362   what do i have to do to stop omore texting me...               Other\n",
      "1132                                      ahhhh thanks     Praise/Thank You\n",
      "6109   ah got it your plan will be updated at the st...             Billing\n",
      "2666   ich bitte darum mein freitag ist versaut hab ...               Other\n",
      "1133   ah no worries andrew glad you got it sorted h...    Praise/Thank You\n",
      "                                           cleaned_text  is_question\n",
      "2300   we hope youre having a great time alex if you...            1\n",
      "6080   ol andr com certeza a srie lore muito boa o q...            0\n",
      "8103   there is an issue which achievements not unlo...            1\n",
      "4435   i have no doubt it will be delivered eventual...            1\n",
      "629    waiting up for our deliveryhalf hour late and...            1\n",
      "1085                is trash im sorry i cheated on you             0\n",
      "2457   im sorry for the delay we dont have access to...            0\n",
      "3082   minha encomenda da black friday chegou rapida...            0\n",
      "6887   we will indeed pass your feedback on its hard...            0\n",
      "4390   he is a fraud not picking my phone call his n...            0\n",
      "Golden dataset saved\n"
     ]
    }
   ],
   "source": [
    "df['intent'] = df['cleaned_text'].apply(lambda text: assign_intent(text, keywords))\n",
    "print(df[['cleaned_text', 'intent']].sample(10))\n",
    "\n",
    "df['tweet_length'] = df['cleaned_text'].str.len()\n",
    "\n",
    "#print(df[['cleaned_text', 'tweet_length']].sample(10))\n",
    "print(df[['cleaned_text', 'is_question']].sample(10))\n",
    "\n",
    "# Writes golden dataset to csv file\n",
    "df.to_csv(\"../data/processed/golden_intent_labeled.csv\", index=False)\n",
    "print(\"Golden dataset saved\")"
   ]
  },
  {
   "cell_type": "markdown",
   "id": "a18a8eef",
   "metadata": {},
   "source": [
    "# Quick Evaluation"
   ]
  },
  {
   "cell_type": "code",
   "execution_count": 4,
   "id": "86291caa",
   "metadata": {},
   "outputs": [
    {
     "name": "stdout",
     "output_type": "stream",
     "text": [
      "Intent: Technical Support\n",
      "\n",
      "  1.  we can certainly understand and would like to help you resolve this issue if youd like to continue troubleshooting please reply in dm \n",
      "\n",
      "  2.  do you have an email address i have problems with shipments and nobody will give me a straight answer about anything\n",
      "\n",
      "  3.  hi carl thats a good idea lets define and solve a problem by using solver let us know if you have any feedback\n",
      "Intent: Other\n",
      "\n",
      "  1.  yesterday my household could stream multi devices today no whats going on and how do i fix it\n",
      "\n",
      "  2.  only the best for you victor we hope we see you again soon\n",
      "\n",
      "  3.  im sorry to know that wed like to take a closer look into this please drop in mp \n",
      "Intent: Praise/Thank You\n",
      "\n",
      "  1.  message sent thanks\n",
      "\n",
      "  2.  that would be so appreciated we love being platinum delta skymiles members\n",
      "\n",
      "  3.  greetings we appreciate your interest in our products the variants that you see on the us website is with respect to the component upgrades you could check if the upgrades are available in india also by contacting our sales team at between mon fri mj\n",
      "Intent: Account Management\n",
      "\n",
      "  1.  why do you tell me to connect to itunes after my iphone was disabled but wont allow me to connect to is as i cant enter the password obviously because the iphone is disabled\n",
      "\n",
      "  2.  you to our account security team k\n",
      "\n",
      "  3.  hey ashley since you are the owner of this email address you can go to enter your email address to sign in and click on the forgot password link a password reset email will be sent to you so you can change the password and sign in to the \n",
      "Intent: Billing\n",
      "\n",
      "  1.  hey carl sorry to hear that your turkey wasnt to your standards would you mind giving me some details so i can issue a refund once i receive this ill be more than happy to feed this back to the suppliers and refund you \n",
      "\n",
      "  2.  dude i got a new problem i cannot make a payment it keeps alert me this error for days already \n",
      "\n",
      "  3.  ive been charged with monthly premium charges hever when im about to cancel my subscriptionit show that im not under premium\n",
      "Intent: Complaint\n",
      "\n",
      "  1.  is garbage i have the and it still has the worst reception i called help and nothing changed ugh i cant dial out \n",
      "\n",
      "  2.  your internet service is just awful theworst\n",
      "\n",
      "  3.  dont feel too bad i have a next day shipment that was supposed to deliver monday and i am still waiting now rescheduled for the third time again til tomorrow they act like its their first holiday season\n"
     ]
    }
   ],
   "source": [
    "# Peep the examples by intent\n",
    "for label in df['intent'].unique():\n",
    "    print(f\"Intent: {label}\")\n",
    "    sample = df[df['intent'] == label][['cleaned_text']].dropna().sample(3, random_state=1)\n",
    "    for i, row in enumerate(sample.itertuples(index=False), 1):\n",
    "        print(f\"\\n  {i}. {row.cleaned_text}\")"
   ]
  },
  {
   "cell_type": "markdown",
   "id": "519c9e3e",
   "metadata": {},
   "source": [
    "# Additional Features"
   ]
  },
  {
   "cell_type": "code",
   "execution_count": null,
   "id": "3314644a",
   "metadata": {},
   "outputs": [],
   "source": []
  }
 ],
 "metadata": {
  "kernelspec": {
   "display_name": "Python 3",
   "language": "python",
   "name": "python3"
  },
  "language_info": {
   "codemirror_mode": {
    "name": "ipython",
    "version": 3
   },
   "file_extension": ".py",
   "mimetype": "text/x-python",
   "name": "python",
   "nbconvert_exporter": "python",
   "pygments_lexer": "ipython3",
   "version": "3.12.6"
  }
 },
 "nbformat": 4,
 "nbformat_minor": 5
}
