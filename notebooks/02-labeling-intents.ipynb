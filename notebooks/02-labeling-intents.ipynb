{
 "cells": [
  {
   "cell_type": "markdown",
   "id": "2d70ce92",
   "metadata": {},
   "source": [
    "# 02 - Labeling Intent\n",
    "\n",
    "This notebook is where we create our **Golden Dataset** — a high-quality, manually labeled sample of customer tweets, annotated by intent.\n",
    "\n",
    "---\n",
    "\n",
    "### Intent Categories\n",
    "\n",
    "| Intent Label        | Description                                      |\n",
    "|---------------------|------------------------------------------------|\n",
    "| `cancel_service`    | Customer wants to cancel account or switch plan|\n",
    "| `billing_issue`     | Complaints or questions about billing           |\n",
    "| `technical_issue`   | Problems with device, network, or service       |\n",
    "| `account_help`      | Issues with account management or login         |\n",
    "| `upgrade_request`   | Requests to upgrade device or plan               |\n",
    "| `general_question`  | General questions or inquiries                    |\n",
    "| `positive_feedback` | Praise or compliments                             |\n",
    "| `complaint`         | Negative feedback not related to billing or tech|\n",
    "| `other`             | Anything else or unclear                          |"
   ]
  },
  {
   "cell_type": "markdown",
   "id": "ec2c93f5",
   "metadata": {},
   "source": [
    "# Labeling and Logic of Categorization"
   ]
  },
  {
   "cell_type": "code",
   "execution_count": 1,
   "id": "1ecc7d2e",
   "metadata": {},
   "outputs": [],
   "source": [
    "import pandas as pd\n",
    "import sys\n",
    "import os\n",
    "\n",
    "\n",
    "# Fixing routing issue\n",
    "project_root = os.path.abspath('..')\n",
    "sys.path.append(project_root)\n",
    "\n",
    "from scripts.preprocess import assign_intent\n",
    "\n",
    "# Loads Data from Cleaned CSV\n",
    "df = pd.read_csv(\"../data/processed/cleaned_tweets.csv\")\n",
    "\n",
    "# Sample 250 rows to label\n",
    "golden_df = df.sample(250, random_state=42).copy()\n",
    "\n",
    "# Creates Categories to put into column later\n",
    "intent_categories = [\n",
    "    \"Billing\",\n",
    "    \"Technical Support\",\n",
    "    \"Account Management\",\n",
    "    \"Complaint\",\n",
    "    \"Praise/Thank You\",\n",
    "    \"Other\"\n",
    "]\n",
    "\n",
    "keywords = {\n",
    "    \"Billing\": [\"bill\", \"charge\", \"payment\", \"refund\"],\n",
    "    \"Technical Support\": [\"error\", \"issue\", \"problem\", \"disconnect\", \"slow\"],\n",
    "    \"Account Management\": [\"password\", \"login\", \"account\", \"reset\"],\n",
    "    \"Complaint\": [\"bad\", \"terrible\", \"worst\", \"disappointed\", \"angry\"],\n",
    "    \"Praise/Thank You\": [\"thank\", \"great\", \"love\", \"awesome\", \"appreciate\"]\n",
    "}"
   ]
  },
  {
   "cell_type": "markdown",
   "id": "dae5ffa4",
   "metadata": {},
   "source": [
    "# Apply Categorization Function to Datarframe and Write to CSV file"
   ]
  },
  {
   "cell_type": "code",
   "execution_count": 2,
   "id": "1510442e",
   "metadata": {},
   "outputs": [
    {
     "name": "stdout",
     "output_type": "stream",
     "text": [
      "                                           cleaned_text             intent\n",
      "1766       oh thats actually a very good help thank you   Praise/Thank You\n",
      "1980   sorry to hear that where did you acquire the ...              Other\n",
      "1389   i get to the end of an avios booking then get...              Other\n",
      "4639                                         delta suck              Other\n",
      "5451   can i use yesterdays tickets from euston to m...              Other\n",
      "14     sorry for the trouble kindly send us a note v...              Other\n",
      "8875   sowhy bring up the hour timeframe if the cust...              Other\n",
      "6674   hi ciaran im sorry you havent received a conf...  Technical Support\n",
      "9567   we do not have a completion time set we are b...              Other\n",
      "1144   im sorry about the hassle please reach out to...              Other\n",
      "                                           cleaned_text  tweet_length\n",
      "8253   the worst card ever i got a bill for for a ca...           114\n",
      "313    im sorry you didnt dig it were tweaking the r...           118\n",
      "5738   and any idea when the collapsable green scree...            80\n",
      "5217   can i use the credits it for domestic flight ...            60\n",
      "3832   thanks for your quick response i have already...           182\n",
      "3623   the phone number for the ups center in maspet...            50\n",
      "9590       love the way walmart lights make my car pop             44\n",
      "5245                                       just dmd you            13\n",
      "9241                         hurry and ship my x please            27\n",
      "1644                                 done thanks claire            19\n",
      "Golden dataset saved\n"
     ]
    }
   ],
   "source": [
    "df['intent'] = df['cleaned_text'].apply(lambda text: assign_intent(text, keywords))\n",
    "print(df[['cleaned_text', 'intent']].sample(10))\n",
    "\n",
    "df['tweet_length'] = df['cleaned_text'].str.len()\n",
    "\n",
    "print(df[['cleaned_text', 'tweet_length']].sample(10))\n",
    "\n",
    "# Writes golden dataset to csv file\n",
    "df.to_csv(\"../data/processed/golden_intent_labeled.csv\", index=False)\n",
    "print(\"Golden dataset saved\")"
   ]
  },
  {
   "cell_type": "markdown",
   "id": "a18a8eef",
   "metadata": {},
   "source": [
    "# Quick Evaluation"
   ]
  },
  {
   "cell_type": "code",
   "execution_count": 3,
   "id": "86291caa",
   "metadata": {},
   "outputs": [
    {
     "name": "stdout",
     "output_type": "stream",
     "text": [
      "Intent: Technical Support\n",
      "\n",
      "  1.  what is the issue with your airtime lawrence has it been resolved for you now please dm us \n",
      "\n",
      "  2.  it keeps saying error code ive been pre ordering cod since black ops never had this bad of a launch please fix major cod fan here\n",
      "\n",
      "  3.  hi ani sorry to hear youre having issues with your service if you could please dm your account phone number an \n",
      "Intent: Other\n",
      "\n",
      "  1.  think its possible to get bumped to even more itd be a wonderful experience\n",
      "\n",
      "  2.  your package will be delivered tomorrow im sorry about the inconvenience i dont have any more current updates on this since your local center in canada is dealing with you directly mc \n",
      "\n",
      "  3.  is it possible to set up an azure vps instance in china\n",
      "Intent: Billing\n",
      "\n",
      "  1.  i just tried to update my payment but got this message the csrf token is invalid please try to resubmit the form i redid the form and it still gives me the same error please help\n",
      "\n",
      "  2. wow amazon charged me for this prime thingy like i knew i had it\n",
      "\n",
      "  3.  why do you not care about customers with fixed budgets and modest needs been a customer for years never missed a payment and because im not purchasing a premium package theres nothing for me\n",
      "Intent: Praise/Thank You\n",
      "\n",
      "  1.  theres no way to make up for the fact that this was supposed to be a thanksgiving gift for someone and that now its ruined i put my trust in amazon to help me in this special moment and it was betrayed and not for the first time amazon misleadingcustomers holidayruined\n",
      "\n",
      "  2.  thanks for getting back to me will dm you now greatcustomerservice\n",
      "\n",
      "  3.  hello there thank you for contacting us please dm us for further assistance ac\n",
      "Intent: Complaint\n",
      "\n",
      "  1.  sorry to hear that you were disappointed with your meal feel free to send us a dm if youd like to tell us more kr\n",
      "\n",
      "  2.  such a bad wifi experiencei couldnt even watch your tvmovies option disappointing \n",
      "\n",
      "  3.  by a day which was yesterday then now youre saying oh our bad by tomorrow tf\n",
      "Intent: Account Management\n",
      "\n",
      "  1.  hey can you dm us your accounts email address well take a look rb \n",
      "\n",
      "  2.  hmm can you dm us your accounts email address well take a look backstage ak \n",
      "\n",
      "  3.  i can definitely take a look into deals send me a dm with your account info thank you msa\n"
     ]
    }
   ],
   "source": [
    "# Peep the examples by intent\n",
    "for label in df['intent'].unique():\n",
    "    print(f\"Intent: {label}\")\n",
    "    sample = df[df['intent'] == label][['cleaned_text']].dropna().sample(3, random_state=1)\n",
    "    for i, row in enumerate(sample.itertuples(index=False), 1):\n",
    "        print(f\"\\n  {i}. {row.cleaned_text}\")"
   ]
  },
  {
   "cell_type": "markdown",
   "id": "519c9e3e",
   "metadata": {},
   "source": [
    "# Additional Features"
   ]
  },
  {
   "cell_type": "code",
   "execution_count": null,
   "id": "3314644a",
   "metadata": {},
   "outputs": [],
   "source": []
  }
 ],
 "metadata": {
  "kernelspec": {
   "display_name": "Python 3",
   "language": "python",
   "name": "python3"
  },
  "language_info": {
   "codemirror_mode": {
    "name": "ipython",
    "version": 3
   },
   "file_extension": ".py",
   "mimetype": "text/x-python",
   "name": "python",
   "nbconvert_exporter": "python",
   "pygments_lexer": "ipython3",
   "version": "3.12.6"
  }
 },
 "nbformat": 4,
 "nbformat_minor": 5
}
